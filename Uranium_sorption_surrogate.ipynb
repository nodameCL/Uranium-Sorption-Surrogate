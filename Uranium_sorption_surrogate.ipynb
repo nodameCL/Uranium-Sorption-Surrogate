{
 "cells": [
  {
   "cell_type": "code",
   "execution_count": 1,
   "id": "9eeb11db",
   "metadata": {
    "tags": []
   },
   "outputs": [
    {
     "name": "stdout",
     "output_type": "stream",
     "text": [
      "1.3.2\n"
     ]
    }
   ],
   "source": [
    "import pandas as pd\n",
    "print(pd.__version__)\n",
    "import matplotlib.pyplot as plt\n",
    "import matplotlib as mpl \n",
    "import numpy as np\n",
    "from sklearn.model_selection import train_test_split\n",
    "from sklearn.ensemble import RandomForestRegressor\n",
    "import matplotlib.pyplot as plt"
   ]
  },
  {
   "cell_type": "code",
   "execution_count": 2,
   "id": "a778d7d4-2e97-4d49-af99-a4683866b96f",
   "metadata": {
    "tags": []
   },
   "outputs": [
    {
     "name": "stdout",
     "output_type": "stream",
     "text": [
      "The scikit-learn version is 0.24.2.\n"
     ]
    }
   ],
   "source": [
    "import sklearn \n",
    "print('The scikit-learn version is {}.'.format(sklearn.__version__))"
   ]
  },
  {
   "cell_type": "code",
   "execution_count": 3,
   "id": "ae53410c-fa2c-427f-8f47-57dfd3c1d410",
   "metadata": {
    "tags": []
   },
   "outputs": [
    {
     "name": "stdout",
     "output_type": "stream",
     "text": [
      "3.8.11\n"
     ]
    }
   ],
   "source": [
    "from platform import python_version\n",
    "print(python_version())"
   ]
  },
  {
   "cell_type": "markdown",
   "id": "0161a2cf",
   "metadata": {
    "tags": []
   },
   "source": [
    "# Load Data"
   ]
  },
  {
   "cell_type": "code",
   "execution_count": 4,
   "id": "a5409d84",
   "metadata": {
    "tags": []
   },
   "outputs": [],
   "source": [
    "Columns = [r'$c_1$', r'$c_2$',r'$N_s$',r'$A_s$',r'$U^{4+}$',r'$Na^+$','pH','pe', r'$logK_1$',\n",
    "           r'$logK_2$',r'$logK_c$',r'$logK_a$', r'$logK_{UO_2^{2+}}$',r'$logK_{U^{4+}}$', 'pH2', \n",
    "           r'$\\sigma_0$',r'$\\sigma_{\\beta}$',r'$\\sigma_d$',r'$\\psi_0$',r'$\\psi_{\\beta}$',r'$\\psi_d$','A2', r'$\\equiv SO^-$',\n",
    "           r'$\\equiv SOH_2^+$', r'$\\equiv SOH_2^+:Cl^{-}$', r'$\\equiv SO^-:UO_2^{2+}$',r'$\\equiv SO^-:Na^+$',r'$\\equiv SOH^0$',r'$\\equiv SO^-:U^{4+}$']"
   ]
  },
  {
   "cell_type": "code",
   "execution_count": 5,
   "id": "4bd3e53a",
   "metadata": {
    "tags": []
   },
   "outputs": [],
   "source": [
    "df = pd.read_csv('dataset/DATABASE_AGAIN.txt', delimiter=r\"\\s+\", low_memory=False, names = Columns)"
   ]
  },
  {
   "cell_type": "code",
   "execution_count": 6,
   "id": "deb60184-7302-4560-8b06-9da3ba3007aa",
   "metadata": {
    "tags": []
   },
   "outputs": [
    {
     "data": {
      "text/plain": [
       "(12.0, 2.0, (1589411, 29))"
      ]
     },
     "execution_count": 6,
     "metadata": {},
     "output_type": "execute_result"
    }
   ],
   "source": [
    "df.pH.max(), df.pH.min(), df.shape"
   ]
  },
  {
   "cell_type": "code",
   "execution_count": 7,
   "id": "d92760e0-2d70-4e40-b165-15be1162a095",
   "metadata": {
    "tags": []
   },
   "outputs": [],
   "source": [
    "# load x_train, x_val, x_test \n",
    "inputs = [r'$c_1$', r'$N_s$',r'$A_s$',r'$U^{4+}$',r'$Na^+$','pH', r'$logK_1$',\n",
    "           r'$logK_2$',r'$logK_c$',r'$logK_a$', r'$logK_{UO_2^{2+}}$',r'$logK_{U^{4+}}$']\n",
    "\n",
    "targets = [r'$\\sigma_0$',r'$\\sigma_{\\beta}$',r'$\\sigma_d$',r'$\\psi_0$',r'$\\psi_{\\beta}$',r'$\\psi_d$', r'$\\equiv SO^-$',\n",
    "           r'$\\equiv SOH_2^+$', r'$\\equiv SO^-:UO_2^{2+}$',r'$\\equiv SO^-:Na^+$',r'$\\equiv SOH^0$',r'$\\equiv SO^-:U^{4+}$']\n",
    "\n",
    "df_train_norm = pd.read_csv('dataset/train_norm.csv')\n",
    "df_val_norm = pd.read_csv('dataset/val_norm.csv')\n",
    "df_test_norm = pd.read_csv('dataset/test_norm.csv')\n",
    "\n",
    "X_train_scaled = df_train_norm[inputs]\n",
    "y_train_scaled = df_train_norm[targets]\n",
    "\n",
    "X_val_scaled = df_val_norm[inputs]\n",
    "y_val_scaled = df_val_norm[targets]\n",
    "\n",
    "X_test_scaled = df_test_norm[inputs]\n",
    "y_test_scaled = df_test_norm[targets]"
   ]
  },
  {
   "cell_type": "code",
   "execution_count": 8,
   "id": "7157c517-e009-4c0c-a099-e5e6e4443b30",
   "metadata": {
    "tags": []
   },
   "outputs": [
    {
     "data": {
      "text/plain": [
       "((1271528, 24), (158941, 24), (158942, 24), (1589411, 29))"
      ]
     },
     "execution_count": 8,
     "metadata": {},
     "output_type": "execute_result"
    }
   ],
   "source": [
    "df_train.shape, df_val.shape, df_test.shape, df.shape"
   ]
  },
  {
   "cell_type": "code",
   "execution_count": 14,
   "id": "3368799f-c3d5-447a-8d94-5faaa067c607",
   "metadata": {
    "tags": []
   },
   "outputs": [
    {
     "data": {
      "text/plain": [
       "((1271528, 12), (158941, 12), (158942, 12))"
      ]
     },
     "execution_count": 14,
     "metadata": {},
     "output_type": "execute_result"
    }
   ],
   "source": [
    "X_train.shape, X_val.shape, X_test.shape"
   ]
  },
  {
   "cell_type": "code",
   "execution_count": 15,
   "id": "040a56ec",
   "metadata": {
    "tags": []
   },
   "outputs": [],
   "source": [
    "X_train_scaled = (X_train - X_train.min()) / (X_train.max() - X_train.min())\n",
    "y_train_scaled = (y_train - y_train.min()) / (y_train.max() - y_train.min())\n",
    "\n",
    "X_val_scaled = (X_val - X_train.min()) / (X_train.max() - X_train.min())\n",
    "y_val_scaled = (y_val - y_train.min()) / (y_train.max() - y_train.min())\n",
    "\n",
    "X_test_scaled = (X_test - X_train.min()) / (X_train.max() - X_train.min())\n",
    "y_test_scaled = (y_test - y_train.min()) / (y_train.max() - y_train.min())"
   ]
  },
  {
   "cell_type": "code",
   "execution_count": 44,
   "id": "cc4ff80b-2c81-4074-815b-29d91e8e452c",
   "metadata": {
    "tags": []
   },
   "outputs": [],
   "source": [
    "# save dataset\n",
    "pd.concat([X_train, y_train], axis = 1).to_csv('dataset/train.csv', index=False)\n",
    "pd.concat([X_val, y_val], axis = 1).to_csv('dataset/val.csv', index=False)\n",
    "pd.concat([X_test, y_test], axis = 1).to_csv('dataset/test.csv', index=False)"
   ]
  },
  {
   "cell_type": "code",
   "execution_count": 45,
   "id": "fbf08c11-e6d1-42fc-8998-25d7961c6051",
   "metadata": {
    "tags": []
   },
   "outputs": [],
   "source": [
    "pd.concat([X_train_scaled, y_train_scaled], axis = 1).to_csv('dataset/train_norm.csv', index=False)\n",
    "pd.concat([X_val_scaled, y_val_scaled], axis = 1).to_csv('dataset/val_norm.csv', index=False)\n",
    "pd.concat([X_test_scaled, y_test_scaled], axis = 1).to_csv('dataset/test_norm.csv', index=False)"
   ]
  },
  {
   "cell_type": "code",
   "execution_count": 51,
   "id": "95ceea16-56f4-47cc-81a7-d3cd31c73f56",
   "metadata": {
    "tags": []
   },
   "outputs": [],
   "source": [
    "# (pd.read_csv('dataset/test_norm.csv'))"
   ]
  },
  {
   "cell_type": "markdown",
   "id": "bd91e96b-d655-4405-aafc-d6b3bda2f709",
   "metadata": {
    "tags": []
   },
   "source": [
    "# Train model using multiouput regressor "
   ]
  },
  {
   "cell_type": "code",
   "execution_count": 11,
   "id": "9fec3fdc-9794-4cc3-af5c-963a09fa2f88",
   "metadata": {
    "tags": []
   },
   "outputs": [],
   "source": [
    "from sklearn.multioutput import MultiOutputRegressor"
   ]
  },
  {
   "cell_type": "code",
   "execution_count": 37,
   "id": "ef78eae2-b285-42fd-862c-541b1a4c0188",
   "metadata": {
    "tags": []
   },
   "outputs": [
    {
     "name": "stdout",
     "output_type": "stream",
     "text": [
      "training time is:  5144.91960903001 s\n"
     ]
    }
   ],
   "source": [
    "import time \n",
    "start_time = time.perf_counter()\n",
    "estimator_RF = RandomForestRegressor(n_estimators=100,\n",
    "                                     oob_score=True, \n",
    "                                     random_state=20\n",
    "                                    )\n",
    "regr_RF = MultiOutputRegressor(estimator_RF).fit(X_train_scaled, y_train_scaled)\n",
    "end_time = time.perf_counter()\n",
    "print('training time is: ', end_time - start_time, 's')"
   ]
  },
  {
   "cell_type": "code",
   "execution_count": 39,
   "id": "5ddcf5b2-35e8-4cca-9c5b-ef7a6c47854f",
   "metadata": {
    "tags": []
   },
   "outputs": [
    {
     "name": "stdout",
     "output_type": "stream",
     "text": [
      "RF test time is:  86.7091995239025 s\n"
     ]
    }
   ],
   "source": [
    "# predict on test data \n",
    "import time\n",
    "start_time = time.perf_counter()\n",
    "y_pred_multioutRF = regr_RF.predict(X_test_scaled)\n",
    "end_time = time.perf_counter() \n",
    "print('RF test time is: ', end_time - start_time, 's')"
   ]
  },
  {
   "cell_type": "code",
   "execution_count": 40,
   "id": "ba7d70ed-a4f1-4022-9f67-87102387b3e0",
   "metadata": {
    "tags": []
   },
   "outputs": [],
   "source": [
    "# save predicted data \n",
    "np.savetxt('res/y_pred_multioutRF_njobs1.txt', y_pred_multioutRF)"
   ]
  },
  {
   "cell_type": "markdown",
   "id": "dcef5adb-b4fc-43c8-8cdb-ed2f84e3ec59",
   "metadata": {
    "tags": []
   },
   "source": [
    "# Training on DNN "
   ]
  },
  {
   "cell_type": "code",
   "execution_count": 11,
   "id": "6b193671-3b21-4dc6-8908-3ac8b2f58031",
   "metadata": {
    "tags": []
   },
   "outputs": [],
   "source": [
    "import os\n",
    "import torch\n",
    "import torch.nn as nn\n",
    "import torch.nn.parallel\n",
    "import torch.nn.functional as F\n",
    "import torch.optim as optim\n",
    "import torch.utils.data\n",
    "from model.pytorchtools import EarlyStopping\n",
    "import model.net as models \n",
    "from model.dataset import SurfaceComplexationDataset\n",
    "from tqdm import tqdm\n",
    "from sklearn.metrics import r2_score, mean_squared_error, mean_absolute_error\n",
    "import numpy as np"
   ]
  },
  {
   "cell_type": "code",
   "execution_count": 12,
   "id": "1ba7a0f1-b668-4376-8841-edef9a1c4e7a",
   "metadata": {},
   "outputs": [],
   "source": [
    "def build_optimizer(network, optimizer, learning_rate):\n",
    "    if optimizer == \"sgd\":\n",
    "        optimizer = optim.SGD(network.parameters(),\n",
    "                              lr=learning_rate, momentum=0.9)\n",
    "    elif optimizer == \"adam\":\n",
    "        optimizer = optim.Adam(network.parameters(),\n",
    "                               lr=learning_rate)\n",
    "    \n",
    "    scheduler = optim.lr_scheduler.ReduceLROnPlateau(optimizer, 'min')\n",
    "    return optimizer, scheduler"
   ]
  },
  {
   "cell_type": "code",
   "execution_count": 13,
   "id": "dc76021f-485f-420b-88f0-8c567174dfd3",
   "metadata": {},
   "outputs": [],
   "source": [
    "def load_data(data_dir): \n",
    "    train_set = SurfaceComplexationDataset(root_dir=data_dir, split = 'train')\n",
    "    test_set = SurfaceComplexationDataset(root_dir=data_dir, split='test')\n",
    "    val_set = SurfaceComplexationDataset(root_dir=data_dir, split='val')\n",
    "\n",
    "    return train_set, val_set, test_set"
   ]
  },
  {
   "cell_type": "code",
   "execution_count": 14,
   "id": "88983817-dea2-4304-97ce-0202bb6a35eb",
   "metadata": {},
   "outputs": [],
   "source": [
    "def train_epoch(train_loader, model, optimizer, device, epoch):\n",
    "    \"\"\" Train the model on num_steps batches \n",
    "    Args: \n",
    "        train_loader: a torch.utils.data.DataLoader object that fetches the data\n",
    "        model: the neural network \n",
    "        optimizer: adams \n",
    "    \"\"\"\n",
    "    model.train()\n",
    "    running_loss = 0.0\n",
    "    num_batch = len(train_loader)\n",
    "\n",
    "    for i, (inputs, targets) in enumerate(train_loader): \n",
    "        inputs, targets = inputs.to(device), targets.to(device)\n",
    "        # zero the paramter gradients \n",
    "        optimizer.zero_grad()\n",
    "\n",
    "        # forward + backward + optimize \n",
    "        pred = model(inputs)\n",
    "        loss = F.mse_loss(pred, targets)\n",
    "        loss.backward()\n",
    "        optimizer.step()\n",
    "\n",
    "        # print statistics \n",
    "        running_loss += loss.item()\n",
    "        # if i % 300 == 0: \n",
    "        #     print('[%d: %d/%d] train loss: %f ' % (epoch, i, num_batch, loss.item()))\n",
    "        # if i % 300 == 0: \n",
    "        #     print('[%d: %d/%d] train loss: %f lr = %f' % (epoch, i, num_batch, loss.item(), optimizer.param_groups[0][\"lr\"]))\n",
    "\n",
    "    return running_loss / num_batch "
   ]
  },
  {
   "cell_type": "code",
   "execution_count": 15,
   "id": "89085dff-3225-4798-a4e9-dd0bd49d7418",
   "metadata": {},
   "outputs": [],
   "source": [
    "def validate(val_dataloader, model, device): \n",
    "    model.eval()\n",
    "    val_running_loss = 0.0 \n",
    "\n",
    "    with torch.no_grad(): \n",
    "        for inputs, targets in val_dataloader:\n",
    "            inputs, targets = inputs.to(device), targets.to(device)\n",
    "\n",
    "            outputs = model(inputs)\n",
    "            loss = F.mse_loss(outputs, targets)\n",
    "\n",
    "            val_running_loss += loss.item() * inputs.size(0)\n",
    "\n",
    "    return val_running_loss / len(val_dataloader.dataset)"
   ]
  },
  {
   "cell_type": "code",
   "execution_count": 16,
   "id": "a0e6dd2e-0fa0-4f0e-a65f-c1b119ed8752",
   "metadata": {
    "tags": []
   },
   "outputs": [],
   "source": [
    "def plot_pramas(test_y, test_pred, foldername, outfile): \n",
    "    # print(\"R2 of training is: \", r2_score(train_y, train_pred))\n",
    "    np.savetxt(f'{foldername}/test_pred_{outfile}.txt', test_pred)\n",
    "    np.savetxt(f'{foldername}/test_y_{outfile}.txt', test_y)\n",
    "    \n",
    "    print(\"R2 of test is: \", r2_score(test_y, test_pred))\n",
    "\n",
    "    test_mse = mean_squared_error(test_y, test_pred)\n",
    "    test_mae = mean_absolute_error(test_y, test_pred)\n",
    "\n",
    "    print('Test set results for %i samples:' % test_pred.shape[0])\n",
    "    print('MSE:', test_mse)\n",
    "    print('MAE:', test_mae)"
   ]
  },
  {
   "cell_type": "code",
   "execution_count": 17,
   "id": "8886ee5b-0b69-4388-aab2-0854cf4caa18",
   "metadata": {
    "tags": []
   },
   "outputs": [],
   "source": [
    "def test_accuracy(net, testloader, foldername, outfile, device): \n",
    "    test_pred = []\n",
    "    test_y = []\n",
    "    running_loss = 0 \n",
    "\n",
    "    with torch.no_grad():\n",
    "        for data in testloader:\n",
    "            inputs, targets = data\n",
    "            inputs, targets = inputs.to(device), targets.to(device)\n",
    "            outputs = net(inputs)\n",
    "            loss = F.mse_loss(outputs, targets)\n",
    "\n",
    "            running_loss += loss.item() \n",
    "\n",
    "            pred_val_numpy = outputs.data.cpu().numpy()\n",
    "            target_val_numpy = targets.data.cpu().numpy()\n",
    "\n",
    "            test_pred.append(pred_val_numpy)\n",
    "            test_y.append(target_val_numpy)\n",
    "\n",
    "    test_pred = np.concatenate(test_pred, axis=0)\n",
    "    test_y = np.concatenate(test_y, axis=0)\n",
    "\n",
    "    plot_pramas(test_y, test_pred, foldername, outfile)\n",
    "\n",
    "    print('MSE loss on test set is:', running_loss / len(testloader.dataset)) "
   ]
  },
  {
   "cell_type": "code",
   "execution_count": 20,
   "id": "c448dc1e-f6c2-4458-a066-02b53909a7ab",
   "metadata": {
    "tags": []
   },
   "outputs": [],
   "source": [
    "def train_model(model, device, train_loader, val_loader, test_loader, optimizer, lr_scheduler, isSch, res_dir, name, patience = 20, n_epochs = 100): \n",
    "    # to track the average training loss per epoch as the model trains\n",
    "    avg_train_losses = []\n",
    "    # to track the average validation loss per epoch as the model trains\n",
    "    avg_valid_losses = [] \n",
    "\n",
    "    blue = lambda x: '\\033[94m' + x + '\\033[0m'\n",
    "    \n",
    "    checkpoint_dir = os.path.join(res_dir, 'checkpoints')\n",
    "    try:\n",
    "        os.makedirs(res_dir)\n",
    "        os.makedirs(checkpoint_dir)\n",
    "    except OSError:\n",
    "        pass\n",
    "\n",
    "    checkpoint_path = os.path.join(checkpoint_dir, f'{name}.pt')\n",
    "    # initialize the early_stopping object\n",
    "    early_stopping = EarlyStopping(patience=patience, verbose=True, path = checkpoint_path)\n",
    "\n",
    "    for epoch in tqdm(range(1, n_epochs + 1)):\n",
    "        ###################\n",
    "        # train the model #\n",
    "        ###################\n",
    "        train_epoch_loss = train_epoch(train_loader, model, optimizer, device, epoch)\n",
    "        val_epoch_loss = validate(val_loader, model, device)\n",
    "\n",
    "        # print loss every epoch \n",
    "        print('[%d] train loss: %f ' % (epoch, train_epoch_loss))\n",
    "        print('[%d] %s loss: %f' % (epoch, blue('validate'), val_epoch_loss))\n",
    "\n",
    "        avg_train_losses.append(train_epoch_loss)\n",
    "        avg_valid_losses.append(val_epoch_loss)\n",
    "        \n",
    "        if isSch: \n",
    "            lr_scheduler.step(val_epoch_loss) \n",
    "        \n",
    "        # add early stopping \n",
    "        # early_stopping(val_epoch_loss, model)\n",
    "        early_stopping(train_epoch_loss, model)\n",
    "        if early_stopping.early_stop: \n",
    "            print(\"Early stopping\")\n",
    "            break \n",
    "\n",
    "    np.savetxt(os.path.join(res_dir, f'train_loss_{name}.csv'), avg_train_losses)\n",
    "    np.savetxt(os.path.join(res_dir, f'val_loss_{name}.csv'), avg_valid_losses) \n",
    "\n",
    "    # load the last checkpoint with the best model\n",
    "    model.load_state_dict(torch.load(checkpoint_path)) \n",
    "\n",
    "    # test on test set \n",
    "    test_accuracy(model, test_loader, res_dir, name, device)\n",
    "    # print(optimizer.state_dict())"
   ]
  },
  {
   "cell_type": "code",
   "execution_count": 21,
   "id": "4b815f70-4f10-4d8e-ae50-5f76116cf48d",
   "metadata": {
    "tags": []
   },
   "outputs": [],
   "source": [
    "def train_main(config): \n",
    "    data_dir = 'dataset/'\n",
    "\n",
    "    # get dataset \n",
    "    train_set, val_set, test_set = load_data(data_dir)\n",
    "\n",
    "    train_loader = torch.utils.data.DataLoader(\n",
    "        train_set,\n",
    "        batch_size=int(config[\"batch_size\"]),\n",
    "        shuffle=True,\n",
    "        num_workers=4, \n",
    "        pin_memory=False)\n",
    "\n",
    "    val_loader = torch.utils.data.DataLoader(\n",
    "            val_set,\n",
    "            batch_size=int(config[\"batch_size\"]),\n",
    "            shuffle=True,\n",
    "            num_workers=4, \n",
    "            pin_memory=False)\n",
    "\n",
    "    test_loader = torch.utils.data.DataLoader(\n",
    "            test_set, \n",
    "            batch_size=int(config[\"batch_size\"]), \n",
    "            shuffle=True,\n",
    "            num_workers=4, \n",
    "            pin_memory=False)\n",
    "            \n",
    "    print(\"Creating model\")\n",
    "    Model = getattr(models, config['model'])\n",
    "    print('created model is: ', Model)\n",
    "\n",
    "    model = Model(config['batch_norm'], config['layer_norm'], \n",
    "                 config[\"l1\"], config[\"l2\"], config[\"l3\"], config[\"l4\"], config[\"l5\"])\n",
    "\n",
    "    name = f\"{config['model']}_{config['l1']}{config['l2']}{config['l3']}{config['l4']}\" +\\\n",
    "            f\"{config['l5']}lr{config['lr']}BS{config['batch_size']}isB{config['batch_norm']}\" +\\\n",
    "            f\"ln{config['layer_norm']}Opt{config['optimizer']}sch{config['lr_scheduler']}\"\n",
    "        \n",
    "\n",
    "    device = torch.device(\"cuda:0\" if torch.cuda.is_available() else \"cpu\")\n",
    "    model.to(device)\n",
    "\n",
    "    optimizer, lr_scheduler = build_optimizer(model, config['optimizer'], config['lr'])\n",
    "    res_dir = 'DNN_res/'\n",
    "    \n",
    "    train_model(model, device, train_loader, val_loader, test_loader, optimizer, lr_scheduler, config['lr_scheduler'], res_dir, name, 20, 5000)"
   ]
  },
  {
   "cell_type": "markdown",
   "id": "ae86b501-273b-4d5d-ad98-76acb54257e3",
   "metadata": {
    "tags": []
   },
   "source": [
    "## train model "
   ]
  },
  {
   "cell_type": "code",
   "execution_count": null,
   "id": "7f90f836-7c68-4988-b249-55480ba7f657",
   "metadata": {},
   "outputs": [],
   "source": [
    "config = {'l1': 512, 'l2': 512, 'l3': 512, 'l4': 512, 'l5': 512, \n",
    "          'lr': 0.001, 'batch_size': 128, 'model': 'DeepNet6LayerTune', 'batch_norm': False, \n",
    "          'layer_norm': True, 'lr_scheduler': True, 'optimizer': 'adam'}"
   ]
  },
  {
   "cell_type": "code",
   "execution_count": null,
   "id": "d3db3372-db64-434b-b45b-eec6c9bbf5c7",
   "metadata": {
    "tags": []
   },
   "outputs": [
    {
     "name": "stdout",
     "output_type": "stream",
     "text": [
      "Creating model\n",
      "created model is:  <class 'model.net.DeepNet6LayerTune'>\n"
     ]
    },
    {
     "name": "stderr",
     "output_type": "stream",
     "text": [
      "  0%|          | 1/5000 [00:31<44:21:11, 31.94s/it]"
     ]
    },
    {
     "name": "stdout",
     "output_type": "stream",
     "text": [
      "[1] train loss: 0.001919 \n",
      "[1] \u001b[94mvalidate\u001b[0m loss: 0.000545\n",
      "Validation loss decreased (inf --> 0.001919).  Saving model ...\n"
     ]
    },
    {
     "name": "stderr",
     "output_type": "stream",
     "text": [
      "  0%|          | 2/5000 [01:03<44:19:35, 31.93s/it]"
     ]
    },
    {
     "name": "stdout",
     "output_type": "stream",
     "text": [
      "[2] train loss: 0.000451 \n",
      "[2] \u001b[94mvalidate\u001b[0m loss: 0.000282\n",
      "Validation loss decreased (0.001919 --> 0.000451).  Saving model ...\n"
     ]
    },
    {
     "name": "stderr",
     "output_type": "stream",
     "text": [
      "  0%|          | 3/5000 [01:35<43:56:47, 31.66s/it]"
     ]
    },
    {
     "name": "stdout",
     "output_type": "stream",
     "text": [
      "[3] train loss: 0.000268 \n",
      "[3] \u001b[94mvalidate\u001b[0m loss: 0.000172\n",
      "Validation loss decreased (0.000451 --> 0.000268).  Saving model ...\n"
     ]
    },
    {
     "name": "stderr",
     "output_type": "stream",
     "text": [
      "  0%|          | 4/5000 [02:06<43:57:15, 31.67s/it]"
     ]
    },
    {
     "name": "stdout",
     "output_type": "stream",
     "text": [
      "[4] train loss: 0.000201 \n",
      "[4] \u001b[94mvalidate\u001b[0m loss: 0.000138\n",
      "Validation loss decreased (0.000268 --> 0.000201).  Saving model ...\n"
     ]
    },
    {
     "name": "stderr",
     "output_type": "stream",
     "text": [
      "  0%|          | 5/5000 [02:38<43:49:12, 31.58s/it]"
     ]
    },
    {
     "name": "stdout",
     "output_type": "stream",
     "text": [
      "[5] train loss: 0.000164 \n",
      "[5] \u001b[94mvalidate\u001b[0m loss: 0.000208\n",
      "Validation loss decreased (0.000201 --> 0.000164).  Saving model ...\n"
     ]
    },
    {
     "name": "stderr",
     "output_type": "stream",
     "text": [
      "  0%|          | 6/5000 [03:09<43:48:13, 31.58s/it]"
     ]
    },
    {
     "name": "stdout",
     "output_type": "stream",
     "text": [
      "[6] train loss: 0.000134 \n",
      "[6] \u001b[94mvalidate\u001b[0m loss: 0.000365\n",
      "Validation loss decreased (0.000164 --> 0.000134).  Saving model ...\n"
     ]
    },
    {
     "name": "stderr",
     "output_type": "stream",
     "text": [
      "  0%|          | 7/5000 [03:41<43:57:01, 31.69s/it]"
     ]
    },
    {
     "name": "stdout",
     "output_type": "stream",
     "text": [
      "[7] train loss: 0.000113 \n",
      "[7] \u001b[94mvalidate\u001b[0m loss: 0.000092\n",
      "Validation loss decreased (0.000134 --> 0.000113).  Saving model ...\n"
     ]
    },
    {
     "name": "stderr",
     "output_type": "stream",
     "text": [
      "  0%|          | 8/5000 [04:12<43:38:27, 31.47s/it]"
     ]
    },
    {
     "name": "stdout",
     "output_type": "stream",
     "text": [
      "[8] train loss: 0.000091 \n",
      "[8] \u001b[94mvalidate\u001b[0m loss: 0.000135\n",
      "Validation loss decreased (0.000113 --> 0.000091).  Saving model ...\n"
     ]
    },
    {
     "name": "stderr",
     "output_type": "stream",
     "text": [
      "  0%|          | 9/5000 [04:43<43:23:47, 31.30s/it]"
     ]
    },
    {
     "name": "stdout",
     "output_type": "stream",
     "text": [
      "[9] train loss: 0.000075 \n",
      "[9] \u001b[94mvalidate\u001b[0m loss: 0.000152\n",
      "Validation loss decreased (0.000091 --> 0.000075).  Saving model ...\n"
     ]
    },
    {
     "name": "stderr",
     "output_type": "stream",
     "text": [
      "  0%|          | 10/5000 [05:12<42:06:50, 30.38s/it]"
     ]
    },
    {
     "name": "stdout",
     "output_type": "stream",
     "text": [
      "[10] train loss: 0.000064 \n",
      "[10] \u001b[94mvalidate\u001b[0m loss: 0.000033\n",
      "Validation loss decreased (0.000075 --> 0.000064).  Saving model ...\n"
     ]
    },
    {
     "name": "stderr",
     "output_type": "stream",
     "text": [
      "  0%|          | 11/5000 [05:40<41:27:50, 29.92s/it]"
     ]
    },
    {
     "name": "stdout",
     "output_type": "stream",
     "text": [
      "[11] train loss: 0.000054 \n",
      "[11] \u001b[94mvalidate\u001b[0m loss: 0.000038\n",
      "Validation loss decreased (0.000064 --> 0.000054).  Saving model ...\n"
     ]
    },
    {
     "name": "stderr",
     "output_type": "stream",
     "text": [
      "  0%|          | 12/5000 [06:13<42:38:34, 30.78s/it]"
     ]
    },
    {
     "name": "stdout",
     "output_type": "stream",
     "text": [
      "[12] train loss: 0.000051 \n",
      "[12] \u001b[94mvalidate\u001b[0m loss: 0.000032\n",
      "Validation loss decreased (0.000054 --> 0.000051).  Saving model ...\n"
     ]
    },
    {
     "name": "stderr",
     "output_type": "stream",
     "text": [
      "  0%|          | 13/5000 [06:46<43:25:04, 31.34s/it]"
     ]
    },
    {
     "name": "stdout",
     "output_type": "stream",
     "text": [
      "[13] train loss: 0.000050 \n",
      "[13] \u001b[94mvalidate\u001b[0m loss: 0.000021\n",
      "Validation loss decreased (0.000051 --> 0.000050).  Saving model ...\n"
     ]
    },
    {
     "name": "stderr",
     "output_type": "stream",
     "text": [
      "  0%|          | 14/5000 [07:19<44:03:10, 31.81s/it]"
     ]
    },
    {
     "name": "stdout",
     "output_type": "stream",
     "text": [
      "[14] train loss: 0.000042 \n",
      "[14] \u001b[94mvalidate\u001b[0m loss: 0.000035\n",
      "Validation loss decreased (0.000050 --> 0.000042).  Saving model ...\n"
     ]
    },
    {
     "name": "stderr",
     "output_type": "stream",
     "text": [
      "  0%|          | 15/5000 [07:51<44:22:36, 32.05s/it]"
     ]
    },
    {
     "name": "stdout",
     "output_type": "stream",
     "text": [
      "[15] train loss: 0.000041 \n",
      "[15] \u001b[94mvalidate\u001b[0m loss: 0.000098\n",
      "Validation loss decreased (0.000042 --> 0.000041).  Saving model ...\n"
     ]
    },
    {
     "name": "stderr",
     "output_type": "stream",
     "text": [
      "  0%|          | 16/5000 [08:24<44:41:35, 32.28s/it]"
     ]
    },
    {
     "name": "stdout",
     "output_type": "stream",
     "text": [
      "[16] train loss: 0.000043 \n",
      "[16] \u001b[94mvalidate\u001b[0m loss: 0.000015\n",
      "EarlyStopping counter: 1 out of 20\n"
     ]
    },
    {
     "name": "stderr",
     "output_type": "stream",
     "text": [
      "  0%|          | 17/5000 [08:57<45:00:52, 32.52s/it]"
     ]
    },
    {
     "name": "stdout",
     "output_type": "stream",
     "text": [
      "[17] train loss: 0.000041 \n",
      "[17] \u001b[94mvalidate\u001b[0m loss: 0.000027\n",
      "EarlyStopping counter: 2 out of 20\n"
     ]
    },
    {
     "name": "stderr",
     "output_type": "stream",
     "text": [
      "  0%|          | 18/5000 [09:30<44:58:38, 32.50s/it]"
     ]
    },
    {
     "name": "stdout",
     "output_type": "stream",
     "text": [
      "[18] train loss: 0.000039 \n",
      "[18] \u001b[94mvalidate\u001b[0m loss: 0.000017\n",
      "Validation loss decreased (0.000041 --> 0.000039).  Saving model ...\n"
     ]
    },
    {
     "name": "stderr",
     "output_type": "stream",
     "text": [
      "  0%|          | 19/5000 [10:02<45:02:32, 32.55s/it]"
     ]
    },
    {
     "name": "stdout",
     "output_type": "stream",
     "text": [
      "[19] train loss: 0.000036 \n",
      "[19] \u001b[94mvalidate\u001b[0m loss: 0.000015\n",
      "Validation loss decreased (0.000039 --> 0.000036).  Saving model ...\n"
     ]
    },
    {
     "name": "stderr",
     "output_type": "stream",
     "text": [
      "  0%|          | 20/5000 [10:35<45:10:27, 32.66s/it]"
     ]
    },
    {
     "name": "stdout",
     "output_type": "stream",
     "text": [
      "[20] train loss: 0.000035 \n",
      "[20] \u001b[94mvalidate\u001b[0m loss: 0.000287\n",
      "Validation loss decreased (0.000036 --> 0.000035).  Saving model ...\n"
     ]
    },
    {
     "name": "stderr",
     "output_type": "stream",
     "text": [
      "  0%|          | 21/5000 [11:08<45:13:08, 32.70s/it]"
     ]
    },
    {
     "name": "stdout",
     "output_type": "stream",
     "text": [
      "[21] train loss: 0.000035 \n",
      "[21] \u001b[94mvalidate\u001b[0m loss: 0.000027\n",
      "EarlyStopping counter: 1 out of 20\n"
     ]
    },
    {
     "name": "stderr",
     "output_type": "stream",
     "text": [
      "  0%|          | 22/5000 [11:41<45:12:08, 32.69s/it]"
     ]
    },
    {
     "name": "stdout",
     "output_type": "stream",
     "text": [
      "[22] train loss: 0.000030 \n",
      "[22] \u001b[94mvalidate\u001b[0m loss: 0.000014\n",
      "Validation loss decreased (0.000035 --> 0.000030).  Saving model ...\n"
     ]
    },
    {
     "name": "stderr",
     "output_type": "stream",
     "text": [
      "  0%|          | 23/5000 [12:14<45:17:26, 32.76s/it]"
     ]
    },
    {
     "name": "stdout",
     "output_type": "stream",
     "text": [
      "[23] train loss: 0.000036 \n",
      "[23] \u001b[94mvalidate\u001b[0m loss: 0.000047\n",
      "EarlyStopping counter: 1 out of 20\n"
     ]
    },
    {
     "name": "stderr",
     "output_type": "stream",
     "text": [
      "  0%|          | 24/5000 [12:47<45:24:27, 32.85s/it]"
     ]
    },
    {
     "name": "stdout",
     "output_type": "stream",
     "text": [
      "[24] train loss: 0.000032 \n",
      "[24] \u001b[94mvalidate\u001b[0m loss: 0.000082\n",
      "EarlyStopping counter: 2 out of 20\n"
     ]
    },
    {
     "name": "stderr",
     "output_type": "stream",
     "text": [
      "  0%|          | 25/5000 [13:19<45:21:46, 32.83s/it]"
     ]
    },
    {
     "name": "stdout",
     "output_type": "stream",
     "text": [
      "[25] train loss: 0.000027 \n",
      "[25] \u001b[94mvalidate\u001b[0m loss: 0.000018\n",
      "Validation loss decreased (0.000030 --> 0.000027).  Saving model ...\n"
     ]
    },
    {
     "name": "stderr",
     "output_type": "stream",
     "text": [
      "  1%|          | 26/5000 [13:53<45:28:09, 32.91s/it]"
     ]
    },
    {
     "name": "stdout",
     "output_type": "stream",
     "text": [
      "[26] train loss: 0.000030 \n",
      "[26] \u001b[94mvalidate\u001b[0m loss: 0.000016\n",
      "EarlyStopping counter: 1 out of 20\n"
     ]
    },
    {
     "name": "stderr",
     "output_type": "stream",
     "text": [
      "  1%|          | 27/5000 [14:26<45:36:42, 33.02s/it]"
     ]
    },
    {
     "name": "stdout",
     "output_type": "stream",
     "text": [
      "[27] train loss: 0.000027 \n",
      "[27] \u001b[94mvalidate\u001b[0m loss: 0.000013\n",
      "Validation loss decreased (0.000027 --> 0.000027).  Saving model ...\n"
     ]
    },
    {
     "name": "stderr",
     "output_type": "stream",
     "text": [
      "  1%|          | 28/5000 [14:59<45:49:11, 33.18s/it]"
     ]
    },
    {
     "name": "stdout",
     "output_type": "stream",
     "text": [
      "[28] train loss: 0.000028 \n",
      "[28] \u001b[94mvalidate\u001b[0m loss: 0.000013\n",
      "EarlyStopping counter: 1 out of 20\n"
     ]
    },
    {
     "name": "stderr",
     "output_type": "stream",
     "text": [
      "  1%|          | 29/5000 [15:33<46:03:17, 33.35s/it]"
     ]
    },
    {
     "name": "stdout",
     "output_type": "stream",
     "text": [
      "[29] train loss: 0.000024 \n",
      "[29] \u001b[94mvalidate\u001b[0m loss: 0.000035\n",
      "Validation loss decreased (0.000027 --> 0.000024).  Saving model ...\n"
     ]
    },
    {
     "name": "stderr",
     "output_type": "stream",
     "text": [
      "  1%|          | 30/5000 [16:06<45:55:07, 33.26s/it]"
     ]
    },
    {
     "name": "stdout",
     "output_type": "stream",
     "text": [
      "[30] train loss: 0.000025 \n",
      "[30] \u001b[94mvalidate\u001b[0m loss: 0.000010\n",
      "EarlyStopping counter: 1 out of 20\n"
     ]
    },
    {
     "name": "stderr",
     "output_type": "stream",
     "text": [
      "  1%|          | 31/5000 [16:39<45:38:09, 33.06s/it]"
     ]
    },
    {
     "name": "stdout",
     "output_type": "stream",
     "text": [
      "[31] train loss: 0.000024 \n",
      "[31] \u001b[94mvalidate\u001b[0m loss: 0.000009\n",
      "Validation loss decreased (0.000024 --> 0.000024).  Saving model ...\n"
     ]
    },
    {
     "name": "stderr",
     "output_type": "stream",
     "text": [
      "  1%|          | 32/5000 [17:12<45:33:12, 33.01s/it]"
     ]
    },
    {
     "name": "stdout",
     "output_type": "stream",
     "text": [
      "[32] train loss: 0.000024 \n",
      "[32] \u001b[94mvalidate\u001b[0m loss: 0.000015\n",
      "EarlyStopping counter: 1 out of 20\n"
     ]
    },
    {
     "name": "stderr",
     "output_type": "stream",
     "text": [
      "  1%|          | 33/5000 [17:44<45:06:55, 32.70s/it]"
     ]
    },
    {
     "name": "stdout",
     "output_type": "stream",
     "text": [
      "[33] train loss: 0.000027 \n",
      "[33] \u001b[94mvalidate\u001b[0m loss: 0.000013\n",
      "EarlyStopping counter: 2 out of 20\n"
     ]
    },
    {
     "name": "stderr",
     "output_type": "stream",
     "text": [
      "  1%|          | 34/5000 [18:17<45:11:23, 32.76s/it]"
     ]
    },
    {
     "name": "stdout",
     "output_type": "stream",
     "text": [
      "[34] train loss: 0.000019 \n",
      "[34] \u001b[94mvalidate\u001b[0m loss: 0.000011\n",
      "Validation loss decreased (0.000024 --> 0.000019).  Saving model ...\n"
     ]
    },
    {
     "name": "stderr",
     "output_type": "stream",
     "text": [
      "  1%|          | 35/5000 [18:50<45:23:00, 32.91s/it]"
     ]
    },
    {
     "name": "stdout",
     "output_type": "stream",
     "text": [
      "[35] train loss: 0.000026 \n",
      "[35] \u001b[94mvalidate\u001b[0m loss: 0.000009\n",
      "EarlyStopping counter: 1 out of 20\n"
     ]
    },
    {
     "name": "stderr",
     "output_type": "stream",
     "text": [
      "  1%|          | 36/5000 [19:23<45:28:28, 32.98s/it]"
     ]
    },
    {
     "name": "stdout",
     "output_type": "stream",
     "text": [
      "[36] train loss: 0.000023 \n",
      "[36] \u001b[94mvalidate\u001b[0m loss: 0.000010\n",
      "EarlyStopping counter: 2 out of 20\n"
     ]
    },
    {
     "name": "stderr",
     "output_type": "stream",
     "text": [
      "  1%|          | 37/5000 [19:56<45:26:59, 32.97s/it]"
     ]
    },
    {
     "name": "stdout",
     "output_type": "stream",
     "text": [
      "[37] train loss: 0.000024 \n",
      "[37] \u001b[94mvalidate\u001b[0m loss: 0.000008\n",
      "EarlyStopping counter: 3 out of 20\n"
     ]
    },
    {
     "name": "stderr",
     "output_type": "stream",
     "text": [
      "  1%|          | 38/5000 [20:29<45:29:05, 33.00s/it]"
     ]
    },
    {
     "name": "stdout",
     "output_type": "stream",
     "text": [
      "[38] train loss: 0.000019 \n",
      "[38] \u001b[94mvalidate\u001b[0m loss: 0.000014\n",
      "Validation loss decreased (0.000019 --> 0.000019).  Saving model ...\n"
     ]
    },
    {
     "name": "stderr",
     "output_type": "stream",
     "text": [
      "  1%|          | 39/5000 [21:02<45:32:16, 33.05s/it]"
     ]
    },
    {
     "name": "stdout",
     "output_type": "stream",
     "text": [
      "[39] train loss: 0.000020 \n",
      "[39] \u001b[94mvalidate\u001b[0m loss: 0.000009\n",
      "EarlyStopping counter: 1 out of 20\n"
     ]
    },
    {
     "name": "stderr",
     "output_type": "stream",
     "text": [
      "  1%|          | 40/5000 [21:35<45:25:11, 32.97s/it]"
     ]
    },
    {
     "name": "stdout",
     "output_type": "stream",
     "text": [
      "[40] train loss: 0.000021 \n",
      "[40] \u001b[94mvalidate\u001b[0m loss: 0.000009\n",
      "EarlyStopping counter: 2 out of 20\n"
     ]
    },
    {
     "name": "stderr",
     "output_type": "stream",
     "text": [
      "  1%|          | 41/5000 [22:06<44:47:09, 32.51s/it]"
     ]
    },
    {
     "name": "stdout",
     "output_type": "stream",
     "text": [
      "[41] train loss: 0.000019 \n",
      "[41] \u001b[94mvalidate\u001b[0m loss: 0.000009\n",
      "EarlyStopping counter: 3 out of 20\n"
     ]
    },
    {
     "name": "stderr",
     "output_type": "stream",
     "text": [
      "  1%|          | 42/5000 [22:39<45:01:29, 32.69s/it]"
     ]
    },
    {
     "name": "stdout",
     "output_type": "stream",
     "text": [
      "[42] train loss: 0.000018 \n",
      "[42] \u001b[94mvalidate\u001b[0m loss: 0.000008\n",
      "Validation loss decreased (0.000019 --> 0.000018).  Saving model ...\n"
     ]
    },
    {
     "name": "stderr",
     "output_type": "stream",
     "text": [
      "  1%|          | 43/5000 [23:11<44:41:41, 32.46s/it]"
     ]
    },
    {
     "name": "stdout",
     "output_type": "stream",
     "text": [
      "[43] train loss: 0.000020 \n",
      "[43] \u001b[94mvalidate\u001b[0m loss: 0.000014\n",
      "EarlyStopping counter: 1 out of 20\n"
     ]
    },
    {
     "name": "stderr",
     "output_type": "stream",
     "text": [
      "  1%|          | 44/5000 [23:44<44:45:58, 32.52s/it]"
     ]
    },
    {
     "name": "stdout",
     "output_type": "stream",
     "text": [
      "[44] train loss: 0.000018 \n",
      "[44] \u001b[94mvalidate\u001b[0m loss: 0.000012\n",
      "Validation loss decreased (0.000018 --> 0.000018).  Saving model ...\n"
     ]
    },
    {
     "name": "stderr",
     "output_type": "stream",
     "text": [
      "  1%|          | 45/5000 [24:17<45:00:14, 32.70s/it]"
     ]
    },
    {
     "name": "stdout",
     "output_type": "stream",
     "text": [
      "[45] train loss: 0.000017 \n",
      "[45] \u001b[94mvalidate\u001b[0m loss: 0.000018\n",
      "Validation loss decreased (0.000018 --> 0.000017).  Saving model ...\n"
     ]
    },
    {
     "name": "stderr",
     "output_type": "stream",
     "text": [
      "  1%|          | 46/5000 [24:50<45:01:48, 32.72s/it]"
     ]
    },
    {
     "name": "stdout",
     "output_type": "stream",
     "text": [
      "[46] train loss: 0.000018 \n",
      "[46] \u001b[94mvalidate\u001b[0m loss: 0.000012\n",
      "EarlyStopping counter: 1 out of 20\n"
     ]
    },
    {
     "name": "stderr",
     "output_type": "stream",
     "text": [
      "  1%|          | 47/5000 [25:23<45:03:02, 32.74s/it]"
     ]
    },
    {
     "name": "stdout",
     "output_type": "stream",
     "text": [
      "[47] train loss: 0.000021 \n",
      "[47] \u001b[94mvalidate\u001b[0m loss: 0.000105\n",
      "EarlyStopping counter: 2 out of 20\n"
     ]
    },
    {
     "name": "stderr",
     "output_type": "stream",
     "text": [
      "  1%|          | 48/5000 [25:55<44:50:22, 32.60s/it]"
     ]
    },
    {
     "name": "stdout",
     "output_type": "stream",
     "text": [
      "[48] train loss: 0.000014 \n",
      "[48] \u001b[94mvalidate\u001b[0m loss: 0.000009\n",
      "Validation loss decreased (0.000017 --> 0.000014).  Saving model ...\n"
     ]
    },
    {
     "name": "stderr",
     "output_type": "stream",
     "text": [
      "  1%|          | 49/5000 [26:27<44:38:04, 32.45s/it]"
     ]
    },
    {
     "name": "stdout",
     "output_type": "stream",
     "text": [
      "[49] train loss: 0.000003 \n",
      "[49] \u001b[94mvalidate\u001b[0m loss: 0.000003\n",
      "Validation loss decreased (0.000014 --> 0.000003).  Saving model ...\n"
     ]
    },
    {
     "name": "stderr",
     "output_type": "stream",
     "text": [
      "  1%|          | 50/5000 [27:00<44:43:55, 32.53s/it]"
     ]
    },
    {
     "name": "stdout",
     "output_type": "stream",
     "text": [
      "[50] train loss: 0.000003 \n",
      "[50] \u001b[94mvalidate\u001b[0m loss: 0.000003\n",
      "Validation loss decreased (0.000003 --> 0.000003).  Saving model ...\n"
     ]
    },
    {
     "name": "stderr",
     "output_type": "stream",
     "text": [
      "  1%|          | 51/5000 [27:33<45:04:01, 32.78s/it]"
     ]
    },
    {
     "name": "stdout",
     "output_type": "stream",
     "text": [
      "[51] train loss: 0.000003 \n",
      "[51] \u001b[94mvalidate\u001b[0m loss: 0.000003\n",
      "Validation loss decreased (0.000003 --> 0.000003).  Saving model ...\n"
     ]
    },
    {
     "name": "stderr",
     "output_type": "stream",
     "text": [
      "  1%|          | 52/5000 [28:06<45:10:43, 32.87s/it]"
     ]
    },
    {
     "name": "stdout",
     "output_type": "stream",
     "text": [
      "[52] train loss: 0.000002 \n",
      "[52] \u001b[94mvalidate\u001b[0m loss: 0.000002\n",
      "Validation loss decreased (0.000003 --> 0.000002).  Saving model ...\n"
     ]
    },
    {
     "name": "stderr",
     "output_type": "stream",
     "text": [
      "  1%|          | 53/5000 [28:40<45:24:20, 33.04s/it]"
     ]
    },
    {
     "name": "stdout",
     "output_type": "stream",
     "text": [
      "[53] train loss: 0.000002 \n",
      "[53] \u001b[94mvalidate\u001b[0m loss: 0.000002\n",
      "Validation loss decreased (0.000002 --> 0.000002).  Saving model ...\n"
     ]
    },
    {
     "name": "stderr",
     "output_type": "stream",
     "text": [
      "  1%|          | 54/5000 [29:13<45:26:02, 33.07s/it]"
     ]
    },
    {
     "name": "stdout",
     "output_type": "stream",
     "text": [
      "[54] train loss: 0.000002 \n",
      "[54] \u001b[94mvalidate\u001b[0m loss: 0.000002\n",
      "Validation loss decreased (0.000002 --> 0.000002).  Saving model ...\n"
     ]
    },
    {
     "name": "stderr",
     "output_type": "stream",
     "text": [
      "  1%|          | 55/5000 [29:46<45:27:43, 33.10s/it]"
     ]
    },
    {
     "name": "stdout",
     "output_type": "stream",
     "text": [
      "[55] train loss: 0.000002 \n",
      "[55] \u001b[94mvalidate\u001b[0m loss: 0.000002\n",
      "Validation loss decreased (0.000002 --> 0.000002).  Saving model ...\n"
     ]
    },
    {
     "name": "stderr",
     "output_type": "stream",
     "text": [
      "  1%|          | 56/5000 [30:19<45:34:13, 33.18s/it]"
     ]
    },
    {
     "name": "stdout",
     "output_type": "stream",
     "text": [
      "[56] train loss: 0.000002 \n",
      "[56] \u001b[94mvalidate\u001b[0m loss: 0.000002\n",
      "Validation loss decreased (0.000002 --> 0.000002).  Saving model ...\n"
     ]
    },
    {
     "name": "stderr",
     "output_type": "stream",
     "text": [
      "  1%|          | 57/5000 [30:52<45:26:26, 33.09s/it]"
     ]
    },
    {
     "name": "stdout",
     "output_type": "stream",
     "text": [
      "[57] train loss: 0.000002 \n",
      "[57] \u001b[94mvalidate\u001b[0m loss: 0.000002\n",
      "Validation loss decreased (0.000002 --> 0.000002).  Saving model ...\n"
     ]
    },
    {
     "name": "stderr",
     "output_type": "stream",
     "text": [
      "  1%|          | 58/5000 [31:25<45:26:19, 33.10s/it]"
     ]
    },
    {
     "name": "stdout",
     "output_type": "stream",
     "text": [
      "[58] train loss: 0.000002 \n",
      "[58] \u001b[94mvalidate\u001b[0m loss: 0.000002\n",
      "Validation loss decreased (0.000002 --> 0.000002).  Saving model ...\n"
     ]
    },
    {
     "name": "stderr",
     "output_type": "stream",
     "text": [
      "  1%|          | 59/5000 [31:58<45:09:51, 32.91s/it]"
     ]
    },
    {
     "name": "stdout",
     "output_type": "stream",
     "text": [
      "[59] train loss: 0.000002 \n",
      "[59] \u001b[94mvalidate\u001b[0m loss: 0.000002\n",
      "Validation loss decreased (0.000002 --> 0.000002).  Saving model ...\n"
     ]
    },
    {
     "name": "stderr",
     "output_type": "stream",
     "text": [
      "  1%|          | 60/5000 [32:31<45:14:32, 32.97s/it]"
     ]
    },
    {
     "name": "stdout",
     "output_type": "stream",
     "text": [
      "[60] train loss: 0.000002 \n",
      "[60] \u001b[94mvalidate\u001b[0m loss: 0.000002\n",
      "Validation loss decreased (0.000002 --> 0.000002).  Saving model ...\n"
     ]
    },
    {
     "name": "stderr",
     "output_type": "stream",
     "text": [
      "  1%|          | 61/5000 [33:04<45:12:11, 32.95s/it]"
     ]
    },
    {
     "name": "stdout",
     "output_type": "stream",
     "text": [
      "[61] train loss: 0.000002 \n",
      "[61] \u001b[94mvalidate\u001b[0m loss: 0.000002\n",
      "Validation loss decreased (0.000002 --> 0.000002).  Saving model ...\n"
     ]
    },
    {
     "name": "stderr",
     "output_type": "stream",
     "text": [
      "  1%|          | 62/5000 [33:36<45:01:04, 32.82s/it]"
     ]
    },
    {
     "name": "stdout",
     "output_type": "stream",
     "text": [
      "[62] train loss: 0.000002 \n",
      "[62] \u001b[94mvalidate\u001b[0m loss: 0.000002\n",
      "Validation loss decreased (0.000002 --> 0.000002).  Saving model ...\n"
     ]
    },
    {
     "name": "stderr",
     "output_type": "stream",
     "text": [
      "  1%|▏         | 63/5000 [34:10<45:13:14, 32.97s/it]"
     ]
    },
    {
     "name": "stdout",
     "output_type": "stream",
     "text": [
      "[63] train loss: 0.000002 \n",
      "[63] \u001b[94mvalidate\u001b[0m loss: 0.000002\n",
      "Validation loss decreased (0.000002 --> 0.000002).  Saving model ...\n"
     ]
    },
    {
     "name": "stderr",
     "output_type": "stream",
     "text": [
      "  1%|▏         | 64/5000 [34:42<45:07:02, 32.91s/it]"
     ]
    },
    {
     "name": "stdout",
     "output_type": "stream",
     "text": [
      "[64] train loss: 0.000002 \n",
      "[64] \u001b[94mvalidate\u001b[0m loss: 0.000002\n",
      "Validation loss decreased (0.000002 --> 0.000002).  Saving model ...\n"
     ]
    },
    {
     "name": "stderr",
     "output_type": "stream",
     "text": [
      "  1%|▏         | 65/5000 [35:15<45:08:11, 32.93s/it]"
     ]
    },
    {
     "name": "stdout",
     "output_type": "stream",
     "text": [
      "[65] train loss: 0.000002 \n",
      "[65] \u001b[94mvalidate\u001b[0m loss: 0.000002\n",
      "Validation loss decreased (0.000002 --> 0.000002).  Saving model ...\n"
     ]
    },
    {
     "name": "stderr",
     "output_type": "stream",
     "text": [
      "  1%|▏         | 66/5000 [35:48<44:55:42, 32.78s/it]"
     ]
    },
    {
     "name": "stdout",
     "output_type": "stream",
     "text": [
      "[66] train loss: 0.000002 \n",
      "[66] \u001b[94mvalidate\u001b[0m loss: 0.000002\n",
      "Validation loss decreased (0.000002 --> 0.000002).  Saving model ...\n"
     ]
    },
    {
     "name": "stderr",
     "output_type": "stream",
     "text": [
      "  1%|▏         | 67/5000 [36:20<44:51:17, 32.73s/it]"
     ]
    },
    {
     "name": "stdout",
     "output_type": "stream",
     "text": [
      "[67] train loss: 0.000002 \n",
      "[67] \u001b[94mvalidate\u001b[0m loss: 0.000002\n",
      "Validation loss decreased (0.000002 --> 0.000002).  Saving model ...\n"
     ]
    },
    {
     "name": "stderr",
     "output_type": "stream",
     "text": [
      "  1%|▏         | 68/5000 [36:53<44:43:27, 32.65s/it]"
     ]
    },
    {
     "name": "stdout",
     "output_type": "stream",
     "text": [
      "[68] train loss: 0.000002 \n",
      "[68] \u001b[94mvalidate\u001b[0m loss: 0.000002\n",
      "Validation loss decreased (0.000002 --> 0.000002).  Saving model ...\n"
     ]
    },
    {
     "name": "stderr",
     "output_type": "stream",
     "text": [
      "  1%|▏         | 69/5000 [37:26<44:56:44, 32.81s/it]"
     ]
    },
    {
     "name": "stdout",
     "output_type": "stream",
     "text": [
      "[69] train loss: 0.000002 \n",
      "[69] \u001b[94mvalidate\u001b[0m loss: 0.000002\n",
      "Validation loss decreased (0.000002 --> 0.000002).  Saving model ...\n"
     ]
    },
    {
     "name": "stderr",
     "output_type": "stream",
     "text": [
      "  1%|▏         | 70/5000 [37:58<44:40:00, 32.62s/it]"
     ]
    },
    {
     "name": "stdout",
     "output_type": "stream",
     "text": [
      "[70] train loss: 0.000002 \n",
      "[70] \u001b[94mvalidate\u001b[0m loss: 0.000002\n",
      "Validation loss decreased (0.000002 --> 0.000002).  Saving model ...\n"
     ]
    },
    {
     "name": "stderr",
     "output_type": "stream",
     "text": [
      "  1%|▏         | 71/5000 [38:31<44:51:48, 32.77s/it]"
     ]
    },
    {
     "name": "stdout",
     "output_type": "stream",
     "text": [
      "[71] train loss: 0.000002 \n",
      "[71] \u001b[94mvalidate\u001b[0m loss: 0.000002\n",
      "Validation loss decreased (0.000002 --> 0.000002).  Saving model ...\n"
     ]
    },
    {
     "name": "stderr",
     "output_type": "stream",
     "text": [
      "  1%|▏         | 72/5000 [39:04<44:41:31, 32.65s/it]"
     ]
    },
    {
     "name": "stdout",
     "output_type": "stream",
     "text": [
      "[72] train loss: 0.000002 \n",
      "[72] \u001b[94mvalidate\u001b[0m loss: 0.000002\n",
      "EarlyStopping counter: 1 out of 20\n"
     ]
    },
    {
     "name": "stderr",
     "output_type": "stream",
     "text": [
      "  1%|▏         | 73/5000 [39:35<44:07:10, 32.24s/it]"
     ]
    },
    {
     "name": "stdout",
     "output_type": "stream",
     "text": [
      "[73] train loss: 0.000002 \n",
      "[73] \u001b[94mvalidate\u001b[0m loss: 0.000002\n",
      "Validation loss decreased (0.000002 --> 0.000002).  Saving model ...\n"
     ]
    },
    {
     "name": "stderr",
     "output_type": "stream",
     "text": [
      "  1%|▏         | 74/5000 [40:07<43:54:59, 32.09s/it]"
     ]
    },
    {
     "name": "stdout",
     "output_type": "stream",
     "text": [
      "[74] train loss: 0.000002 \n",
      "[74] \u001b[94mvalidate\u001b[0m loss: 0.000002\n",
      "Validation loss decreased (0.000002 --> 0.000002).  Saving model ...\n"
     ]
    },
    {
     "name": "stderr",
     "output_type": "stream",
     "text": [
      "  2%|▏         | 75/5000 [40:39<44:07:41, 32.26s/it]"
     ]
    },
    {
     "name": "stdout",
     "output_type": "stream",
     "text": [
      "[75] train loss: 0.000002 \n",
      "[75] \u001b[94mvalidate\u001b[0m loss: 0.000002\n",
      "Validation loss decreased (0.000002 --> 0.000002).  Saving model ...\n"
     ]
    },
    {
     "name": "stderr",
     "output_type": "stream",
     "text": [
      "  2%|▏         | 76/5000 [41:12<44:23:27, 32.45s/it]"
     ]
    },
    {
     "name": "stdout",
     "output_type": "stream",
     "text": [
      "[76] train loss: 0.000002 \n",
      "[76] \u001b[94mvalidate\u001b[0m loss: 0.000002\n",
      "Validation loss decreased (0.000002 --> 0.000002).  Saving model ...\n"
     ]
    },
    {
     "name": "stderr",
     "output_type": "stream",
     "text": [
      "  2%|▏         | 77/5000 [41:45<44:34:07, 32.59s/it]"
     ]
    },
    {
     "name": "stdout",
     "output_type": "stream",
     "text": [
      "[77] train loss: 0.000002 \n",
      "[77] \u001b[94mvalidate\u001b[0m loss: 0.000002\n",
      "EarlyStopping counter: 1 out of 20\n"
     ]
    },
    {
     "name": "stderr",
     "output_type": "stream",
     "text": [
      "  2%|▏         | 78/5000 [42:18<44:35:54, 32.62s/it]"
     ]
    },
    {
     "name": "stdout",
     "output_type": "stream",
     "text": [
      "[78] train loss: 0.000002 \n",
      "[78] \u001b[94mvalidate\u001b[0m loss: 0.000002\n",
      "Validation loss decreased (0.000002 --> 0.000002).  Saving model ...\n"
     ]
    },
    {
     "name": "stderr",
     "output_type": "stream",
     "text": [
      "  2%|▏         | 79/5000 [42:51<44:36:00, 32.63s/it]"
     ]
    },
    {
     "name": "stdout",
     "output_type": "stream",
     "text": [
      "[79] train loss: 0.000002 \n",
      "[79] \u001b[94mvalidate\u001b[0m loss: 0.000002\n",
      "Validation loss decreased (0.000002 --> 0.000002).  Saving model ...\n"
     ]
    },
    {
     "name": "stderr",
     "output_type": "stream",
     "text": [
      "  2%|▏         | 80/5000 [43:23<44:18:27, 32.42s/it]"
     ]
    },
    {
     "name": "stdout",
     "output_type": "stream",
     "text": [
      "[80] train loss: 0.000002 \n",
      "[80] \u001b[94mvalidate\u001b[0m loss: 0.000002\n",
      "Validation loss decreased (0.000002 --> 0.000002).  Saving model ...\n"
     ]
    },
    {
     "name": "stderr",
     "output_type": "stream",
     "text": [
      "  2%|▏         | 81/5000 [43:55<44:14:06, 32.37s/it]"
     ]
    },
    {
     "name": "stdout",
     "output_type": "stream",
     "text": [
      "[81] train loss: 0.000002 \n",
      "[81] \u001b[94mvalidate\u001b[0m loss: 0.000002\n",
      "Validation loss decreased (0.000002 --> 0.000002).  Saving model ...\n"
     ]
    },
    {
     "name": "stderr",
     "output_type": "stream",
     "text": [
      "  2%|▏         | 82/5000 [44:28<44:21:30, 32.47s/it]"
     ]
    },
    {
     "name": "stdout",
     "output_type": "stream",
     "text": [
      "[82] train loss: 0.000002 \n",
      "[82] \u001b[94mvalidate\u001b[0m loss: 0.000002\n",
      "Validation loss decreased (0.000002 --> 0.000002).  Saving model ...\n"
     ]
    },
    {
     "name": "stderr",
     "output_type": "stream",
     "text": [
      "  2%|▏         | 83/5000 [45:00<44:14:26, 32.39s/it]"
     ]
    },
    {
     "name": "stdout",
     "output_type": "stream",
     "text": [
      "[83] train loss: 0.000002 \n",
      "[83] \u001b[94mvalidate\u001b[0m loss: 0.000002\n",
      "Validation loss decreased (0.000002 --> 0.000002).  Saving model ...\n"
     ]
    },
    {
     "name": "stderr",
     "output_type": "stream",
     "text": [
      "  2%|▏         | 84/5000 [45:32<44:23:12, 32.50s/it]"
     ]
    },
    {
     "name": "stdout",
     "output_type": "stream",
     "text": [
      "[84] train loss: 0.000002 \n",
      "[84] \u001b[94mvalidate\u001b[0m loss: 0.000002\n",
      "Validation loss decreased (0.000002 --> 0.000002).  Saving model ...\n"
     ]
    },
    {
     "name": "stderr",
     "output_type": "stream",
     "text": [
      "  2%|▏         | 85/5000 [46:05<44:31:58, 32.62s/it]"
     ]
    },
    {
     "name": "stdout",
     "output_type": "stream",
     "text": [
      "[85] train loss: 0.000002 \n",
      "[85] \u001b[94mvalidate\u001b[0m loss: 0.000002\n",
      "Validation loss decreased (0.000002 --> 0.000002).  Saving model ...\n"
     ]
    },
    {
     "name": "stderr",
     "output_type": "stream",
     "text": [
      "  2%|▏         | 86/5000 [46:38<44:24:15, 32.53s/it]"
     ]
    },
    {
     "name": "stdout",
     "output_type": "stream",
     "text": [
      "[86] train loss: 0.000002 \n",
      "[86] \u001b[94mvalidate\u001b[0m loss: 0.000002\n",
      "Validation loss decreased (0.000002 --> 0.000002).  Saving model ...\n"
     ]
    },
    {
     "name": "stderr",
     "output_type": "stream",
     "text": [
      "  2%|▏         | 87/5000 [47:10<44:18:11, 32.46s/it]"
     ]
    },
    {
     "name": "stdout",
     "output_type": "stream",
     "text": [
      "[87] train loss: 0.000002 \n",
      "[87] \u001b[94mvalidate\u001b[0m loss: 0.000002\n",
      "Validation loss decreased (0.000002 --> 0.000002).  Saving model ...\n"
     ]
    },
    {
     "name": "stderr",
     "output_type": "stream",
     "text": [
      "  2%|▏         | 88/5000 [47:43<44:30:52, 32.62s/it]"
     ]
    },
    {
     "name": "stdout",
     "output_type": "stream",
     "text": [
      "[88] train loss: 0.000002 \n",
      "[88] \u001b[94mvalidate\u001b[0m loss: 0.000002\n",
      "EarlyStopping counter: 1 out of 20\n"
     ]
    },
    {
     "name": "stderr",
     "output_type": "stream",
     "text": [
      "  2%|▏         | 89/5000 [48:15<44:15:53, 32.45s/it]"
     ]
    },
    {
     "name": "stdout",
     "output_type": "stream",
     "text": [
      "[89] train loss: 0.000002 \n",
      "[89] \u001b[94mvalidate\u001b[0m loss: 0.000002\n",
      "Validation loss decreased (0.000002 --> 0.000002).  Saving model ...\n"
     ]
    },
    {
     "name": "stderr",
     "output_type": "stream",
     "text": [
      "  2%|▏         | 90/5000 [48:48<44:17:52, 32.48s/it]"
     ]
    },
    {
     "name": "stdout",
     "output_type": "stream",
     "text": [
      "[90] train loss: 0.000002 \n",
      "[90] \u001b[94mvalidate\u001b[0m loss: 0.000002\n",
      "Validation loss decreased (0.000002 --> 0.000002).  Saving model ...\n"
     ]
    },
    {
     "name": "stderr",
     "output_type": "stream",
     "text": [
      "  2%|▏         | 91/5000 [49:20<44:18:30, 32.49s/it]"
     ]
    },
    {
     "name": "stdout",
     "output_type": "stream",
     "text": [
      "[91] train loss: 0.000002 \n",
      "[91] \u001b[94mvalidate\u001b[0m loss: 0.000002\n",
      "Validation loss decreased (0.000002 --> 0.000002).  Saving model ...\n"
     ]
    },
    {
     "name": "stderr",
     "output_type": "stream",
     "text": [
      "  2%|▏         | 92/5000 [49:47<41:56:36, 30.77s/it]"
     ]
    },
    {
     "name": "stdout",
     "output_type": "stream",
     "text": [
      "[92] train loss: 0.000002 \n",
      "[92] \u001b[94mvalidate\u001b[0m loss: 0.000002\n",
      "Validation loss decreased (0.000002 --> 0.000002).  Saving model ...\n"
     ]
    },
    {
     "name": "stderr",
     "output_type": "stream",
     "text": [
      "  2%|▏         | 93/5000 [50:15<40:50:06, 29.96s/it]"
     ]
    },
    {
     "name": "stdout",
     "output_type": "stream",
     "text": [
      "[93] train loss: 0.000002 \n",
      "[93] \u001b[94mvalidate\u001b[0m loss: 0.000002\n",
      "Validation loss decreased (0.000002 --> 0.000002).  Saving model ...\n"
     ]
    },
    {
     "name": "stderr",
     "output_type": "stream",
     "text": [
      "  2%|▏         | 94/5000 [50:46<41:19:09, 30.32s/it]"
     ]
    },
    {
     "name": "stdout",
     "output_type": "stream",
     "text": [
      "[94] train loss: 0.000002 \n",
      "[94] \u001b[94mvalidate\u001b[0m loss: 0.000001\n",
      "Validation loss decreased (0.000002 --> 0.000002).  Saving model ...\n"
     ]
    },
    {
     "name": "stderr",
     "output_type": "stream",
     "text": [
      "  2%|▏         | 95/5000 [51:17<41:27:49, 30.43s/it]"
     ]
    },
    {
     "name": "stdout",
     "output_type": "stream",
     "text": [
      "[95] train loss: 0.000002 \n",
      "[95] \u001b[94mvalidate\u001b[0m loss: 0.000002\n",
      "Validation loss decreased (0.000002 --> 0.000002).  Saving model ...\n"
     ]
    },
    {
     "name": "stderr",
     "output_type": "stream",
     "text": [
      "  2%|▏         | 96/5000 [51:47<41:24:37, 30.40s/it]"
     ]
    },
    {
     "name": "stdout",
     "output_type": "stream",
     "text": [
      "[96] train loss: 0.000002 \n",
      "[96] \u001b[94mvalidate\u001b[0m loss: 0.000002\n",
      "Validation loss decreased (0.000002 --> 0.000002).  Saving model ...\n"
     ]
    },
    {
     "name": "stderr",
     "output_type": "stream",
     "text": [
      "  2%|▏         | 97/5000 [52:13<39:44:41, 29.18s/it]"
     ]
    },
    {
     "name": "stdout",
     "output_type": "stream",
     "text": [
      "[97] train loss: 0.000002 \n",
      "[97] \u001b[94mvalidate\u001b[0m loss: 0.000002\n",
      "Validation loss decreased (0.000002 --> 0.000002).  Saving model ...\n"
     ]
    },
    {
     "name": "stderr",
     "output_type": "stream",
     "text": [
      "  2%|▏         | 98/5000 [52:40<38:40:32, 28.40s/it]"
     ]
    },
    {
     "name": "stdout",
     "output_type": "stream",
     "text": [
      "[98] train loss: 0.000002 \n",
      "[98] \u001b[94mvalidate\u001b[0m loss: 0.000002\n",
      "EarlyStopping counter: 1 out of 20\n"
     ]
    },
    {
     "name": "stderr",
     "output_type": "stream",
     "text": [
      "  2%|▏         | 99/5000 [53:12<40:15:27, 29.57s/it]"
     ]
    },
    {
     "name": "stdout",
     "output_type": "stream",
     "text": [
      "[99] train loss: 0.000002 \n",
      "[99] \u001b[94mvalidate\u001b[0m loss: 0.000002\n",
      "EarlyStopping counter: 2 out of 20\n"
     ]
    },
    {
     "name": "stderr",
     "output_type": "stream",
     "text": [
      "  2%|▏         | 100/5000 [53:45<41:34:38, 30.55s/it]"
     ]
    },
    {
     "name": "stdout",
     "output_type": "stream",
     "text": [
      "[100] train loss: 0.000002 \n",
      "[100] \u001b[94mvalidate\u001b[0m loss: 0.000002\n",
      "Validation loss decreased (0.000002 --> 0.000002).  Saving model ...\n"
     ]
    },
    {
     "name": "stderr",
     "output_type": "stream",
     "text": [
      "  2%|▏         | 101/5000 [54:18<42:20:24, 31.11s/it]"
     ]
    },
    {
     "name": "stdout",
     "output_type": "stream",
     "text": [
      "[101] train loss: 0.000002 \n",
      "[101] \u001b[94mvalidate\u001b[0m loss: 0.000002\n",
      "Validation loss decreased (0.000002 --> 0.000002).  Saving model ...\n"
     ]
    },
    {
     "name": "stderr",
     "output_type": "stream",
     "text": [
      "  2%|▏         | 102/5000 [54:50<42:49:08, 31.47s/it]"
     ]
    },
    {
     "name": "stdout",
     "output_type": "stream",
     "text": [
      "[102] train loss: 0.000001 \n",
      "[102] \u001b[94mvalidate\u001b[0m loss: 0.000002\n",
      "Validation loss decreased (0.000002 --> 0.000001).  Saving model ...\n"
     ]
    },
    {
     "name": "stderr",
     "output_type": "stream",
     "text": [
      "  2%|▏         | 103/5000 [55:21<42:47:28, 31.46s/it]"
     ]
    },
    {
     "name": "stdout",
     "output_type": "stream",
     "text": [
      "[103] train loss: 0.000001 \n",
      "[103] \u001b[94mvalidate\u001b[0m loss: 0.000002\n",
      "Validation loss decreased (0.000001 --> 0.000001).  Saving model ...\n"
     ]
    },
    {
     "name": "stderr",
     "output_type": "stream",
     "text": [
      "  2%|▏         | 104/5000 [55:54<43:24:03, 31.91s/it]"
     ]
    },
    {
     "name": "stdout",
     "output_type": "stream",
     "text": [
      "[104] train loss: 0.000001 \n",
      "[104] \u001b[94mvalidate\u001b[0m loss: 0.000001\n",
      "Validation loss decreased (0.000001 --> 0.000001).  Saving model ...\n"
     ]
    },
    {
     "name": "stderr",
     "output_type": "stream",
     "text": [
      "  2%|▏         | 105/5000 [56:23<42:15:56, 31.08s/it]"
     ]
    },
    {
     "name": "stdout",
     "output_type": "stream",
     "text": [
      "[105] train loss: 0.000001 \n",
      "[105] \u001b[94mvalidate\u001b[0m loss: 0.000001\n",
      "Validation loss decreased (0.000001 --> 0.000001).  Saving model ...\n"
     ]
    },
    {
     "name": "stderr",
     "output_type": "stream",
     "text": [
      "  2%|▏         | 106/5000 [56:51<40:57:49, 30.13s/it]"
     ]
    },
    {
     "name": "stdout",
     "output_type": "stream",
     "text": [
      "[106] train loss: 0.000001 \n",
      "[106] \u001b[94mvalidate\u001b[0m loss: 0.000002\n",
      "Validation loss decreased (0.000001 --> 0.000001).  Saving model ...\n"
     ]
    },
    {
     "name": "stderr",
     "output_type": "stream",
     "text": [
      "  2%|▏         | 107/5000 [57:20<40:32:20, 29.83s/it]"
     ]
    },
    {
     "name": "stdout",
     "output_type": "stream",
     "text": [
      "[107] train loss: 0.000001 \n",
      "[107] \u001b[94mvalidate\u001b[0m loss: 0.000002\n",
      "Validation loss decreased (0.000001 --> 0.000001).  Saving model ...\n"
     ]
    },
    {
     "name": "stderr",
     "output_type": "stream",
     "text": [
      "  2%|▏         | 108/5000 [57:52<41:13:13, 30.33s/it]"
     ]
    },
    {
     "name": "stdout",
     "output_type": "stream",
     "text": [
      "[108] train loss: 0.000001 \n",
      "[108] \u001b[94mvalidate\u001b[0m loss: 0.000002\n",
      "EarlyStopping counter: 1 out of 20\n"
     ]
    },
    {
     "name": "stderr",
     "output_type": "stream",
     "text": [
      "  2%|▏         | 109/5000 [58:22<41:08:32, 30.28s/it]"
     ]
    },
    {
     "name": "stdout",
     "output_type": "stream",
     "text": [
      "[109] train loss: 0.000001 \n",
      "[109] \u001b[94mvalidate\u001b[0m loss: 0.000002\n",
      "Validation loss decreased (0.000001 --> 0.000001).  Saving model ...\n"
     ]
    },
    {
     "name": "stderr",
     "output_type": "stream",
     "text": [
      "  2%|▏         | 110/5000 [58:54<41:36:44, 30.63s/it]"
     ]
    },
    {
     "name": "stdout",
     "output_type": "stream",
     "text": [
      "[110] train loss: 0.000001 \n",
      "[110] \u001b[94mvalidate\u001b[0m loss: 0.000002\n",
      "Validation loss decreased (0.000001 --> 0.000001).  Saving model ...\n"
     ]
    },
    {
     "name": "stderr",
     "output_type": "stream",
     "text": [
      "  2%|▏         | 111/5000 [59:24<41:32:12, 30.59s/it]"
     ]
    },
    {
     "name": "stdout",
     "output_type": "stream",
     "text": [
      "[111] train loss: 0.000001 \n",
      "[111] \u001b[94mvalidate\u001b[0m loss: 0.000001\n",
      "EarlyStopping counter: 1 out of 20\n"
     ]
    },
    {
     "name": "stderr",
     "output_type": "stream",
     "text": [
      "  2%|▏         | 112/5000 [59:51<40:05:05, 29.52s/it]"
     ]
    },
    {
     "name": "stdout",
     "output_type": "stream",
     "text": [
      "[112] train loss: 0.000001 \n",
      "[112] \u001b[94mvalidate\u001b[0m loss: 0.000001\n",
      "Validation loss decreased (0.000001 --> 0.000001).  Saving model ...\n"
     ]
    },
    {
     "name": "stderr",
     "output_type": "stream",
     "text": [
      "  2%|▏         | 113/5000 [1:00:21<40:22:17, 29.74s/it]"
     ]
    },
    {
     "name": "stdout",
     "output_type": "stream",
     "text": [
      "[113] train loss: 0.000001 \n",
      "[113] \u001b[94mvalidate\u001b[0m loss: 0.000001\n",
      "Validation loss decreased (0.000001 --> 0.000001).  Saving model ...\n"
     ]
    },
    {
     "name": "stderr",
     "output_type": "stream",
     "text": [
      "  2%|▏         | 114/5000 [1:00:53<41:08:25, 30.31s/it]"
     ]
    },
    {
     "name": "stdout",
     "output_type": "stream",
     "text": [
      "[114] train loss: 0.000001 \n",
      "[114] \u001b[94mvalidate\u001b[0m loss: 0.000001\n",
      "EarlyStopping counter: 1 out of 20\n"
     ]
    },
    {
     "name": "stderr",
     "output_type": "stream",
     "text": [
      "  2%|▏         | 115/5000 [1:01:25<41:46:55, 30.79s/it]"
     ]
    },
    {
     "name": "stdout",
     "output_type": "stream",
     "text": [
      "[115] train loss: 0.000001 \n",
      "[115] \u001b[94mvalidate\u001b[0m loss: 0.000001\n",
      "Validation loss decreased (0.000001 --> 0.000001).  Saving model ...\n"
     ]
    },
    {
     "name": "stderr",
     "output_type": "stream",
     "text": [
      "  2%|▏         | 116/5000 [1:01:55<41:31:53, 30.61s/it]"
     ]
    },
    {
     "name": "stdout",
     "output_type": "stream",
     "text": [
      "[116] train loss: 0.000001 \n",
      "[116] \u001b[94mvalidate\u001b[0m loss: 0.000002\n",
      "EarlyStopping counter: 1 out of 20\n"
     ]
    },
    {
     "name": "stderr",
     "output_type": "stream",
     "text": [
      "  2%|▏         | 117/5000 [1:02:24<40:59:19, 30.22s/it]"
     ]
    },
    {
     "name": "stdout",
     "output_type": "stream",
     "text": [
      "[117] train loss: 0.000001 \n",
      "[117] \u001b[94mvalidate\u001b[0m loss: 0.000001\n",
      "Validation loss decreased (0.000001 --> 0.000001).  Saving model ...\n"
     ]
    },
    {
     "name": "stderr",
     "output_type": "stream",
     "text": [
      "  2%|▏         | 118/5000 [1:02:53<40:09:25, 29.61s/it]"
     ]
    },
    {
     "name": "stdout",
     "output_type": "stream",
     "text": [
      "[118] train loss: 0.000001 \n",
      "[118] \u001b[94mvalidate\u001b[0m loss: 0.000002\n",
      "Validation loss decreased (0.000001 --> 0.000001).  Saving model ...\n"
     ]
    },
    {
     "name": "stderr",
     "output_type": "stream",
     "text": [
      "  2%|▏         | 119/5000 [1:03:23<40:38:57, 29.98s/it]"
     ]
    },
    {
     "name": "stdout",
     "output_type": "stream",
     "text": [
      "[119] train loss: 0.000001 \n",
      "[119] \u001b[94mvalidate\u001b[0m loss: 0.000002\n",
      "Validation loss decreased (0.000001 --> 0.000001).  Saving model ...\n"
     ]
    },
    {
     "name": "stderr",
     "output_type": "stream",
     "text": [
      "  2%|▏         | 120/5000 [1:03:54<40:43:56, 30.05s/it]"
     ]
    },
    {
     "name": "stdout",
     "output_type": "stream",
     "text": [
      "[120] train loss: 0.000001 \n",
      "[120] \u001b[94mvalidate\u001b[0m loss: 0.000002\n",
      "Validation loss decreased (0.000001 --> 0.000001).  Saving model ...\n"
     ]
    },
    {
     "name": "stderr",
     "output_type": "stream",
     "text": [
      "  2%|▏         | 121/5000 [1:04:24<40:48:32, 30.11s/it]"
     ]
    },
    {
     "name": "stdout",
     "output_type": "stream",
     "text": [
      "[121] train loss: 0.000001 \n",
      "[121] \u001b[94mvalidate\u001b[0m loss: 0.000002\n",
      "EarlyStopping counter: 1 out of 20\n"
     ]
    },
    {
     "name": "stderr",
     "output_type": "stream",
     "text": [
      "  2%|▏         | 122/5000 [1:04:54<40:58:58, 30.25s/it]"
     ]
    },
    {
     "name": "stdout",
     "output_type": "stream",
     "text": [
      "[122] train loss: 0.000001 \n",
      "[122] \u001b[94mvalidate\u001b[0m loss: 0.000001\n",
      "Validation loss decreased (0.000001 --> 0.000001).  Saving model ...\n"
     ]
    },
    {
     "name": "stderr",
     "output_type": "stream",
     "text": [
      "  2%|▏         | 123/5000 [1:05:26<41:18:46, 30.50s/it]"
     ]
    },
    {
     "name": "stdout",
     "output_type": "stream",
     "text": [
      "[123] train loss: 0.000001 \n",
      "[123] \u001b[94mvalidate\u001b[0m loss: 0.000001\n",
      "Validation loss decreased (0.000001 --> 0.000001).  Saving model ...\n"
     ]
    },
    {
     "name": "stderr",
     "output_type": "stream",
     "text": [
      "  2%|▏         | 124/5000 [1:05:56<41:20:05, 30.52s/it]"
     ]
    },
    {
     "name": "stdout",
     "output_type": "stream",
     "text": [
      "[124] train loss: 0.000001 \n",
      "[124] \u001b[94mvalidate\u001b[0m loss: 0.000001\n",
      "Validation loss decreased (0.000001 --> 0.000001).  Saving model ...\n"
     ]
    },
    {
     "name": "stderr",
     "output_type": "stream",
     "text": [
      "  2%|▎         | 125/5000 [1:06:27<41:34:22, 30.70s/it]"
     ]
    },
    {
     "name": "stdout",
     "output_type": "stream",
     "text": [
      "[125] train loss: 0.000001 \n",
      "[125] \u001b[94mvalidate\u001b[0m loss: 0.000002\n",
      "Validation loss decreased (0.000001 --> 0.000001).  Saving model ...\n"
     ]
    },
    {
     "name": "stderr",
     "output_type": "stream",
     "text": [
      "  3%|▎         | 126/5000 [1:06:59<41:48:38, 30.88s/it]"
     ]
    },
    {
     "name": "stdout",
     "output_type": "stream",
     "text": [
      "[126] train loss: 0.000001 \n",
      "[126] \u001b[94mvalidate\u001b[0m loss: 0.000002\n",
      "EarlyStopping counter: 1 out of 20\n"
     ]
    },
    {
     "name": "stderr",
     "output_type": "stream",
     "text": [
      "  3%|▎         | 127/5000 [1:07:30<41:54:18, 30.96s/it]"
     ]
    },
    {
     "name": "stdout",
     "output_type": "stream",
     "text": [
      "[127] train loss: 0.000001 \n",
      "[127] \u001b[94mvalidate\u001b[0m loss: 0.000001\n",
      "Validation loss decreased (0.000001 --> 0.000001).  Saving model ...\n"
     ]
    },
    {
     "name": "stderr",
     "output_type": "stream",
     "text": [
      "  3%|▎         | 128/5000 [1:08:00<41:45:15, 30.85s/it]"
     ]
    },
    {
     "name": "stdout",
     "output_type": "stream",
     "text": [
      "[128] train loss: 0.000001 \n",
      "[128] \u001b[94mvalidate\u001b[0m loss: 0.000001\n",
      "Validation loss decreased (0.000001 --> 0.000001).  Saving model ...\n"
     ]
    },
    {
     "name": "stderr",
     "output_type": "stream",
     "text": [
      "  3%|▎         | 129/5000 [1:08:30<41:16:50, 30.51s/it]"
     ]
    },
    {
     "name": "stdout",
     "output_type": "stream",
     "text": [
      "[129] train loss: 0.000001 \n",
      "[129] \u001b[94mvalidate\u001b[0m loss: 0.000001\n",
      "Validation loss decreased (0.000001 --> 0.000001).  Saving model ...\n"
     ]
    },
    {
     "name": "stderr",
     "output_type": "stream",
     "text": [
      "  3%|▎         | 130/5000 [1:09:02<41:40:31, 30.81s/it]"
     ]
    },
    {
     "name": "stdout",
     "output_type": "stream",
     "text": [
      "[130] train loss: 0.000001 \n",
      "[130] \u001b[94mvalidate\u001b[0m loss: 0.000001\n",
      "Validation loss decreased (0.000001 --> 0.000001).  Saving model ...\n"
     ]
    },
    {
     "name": "stderr",
     "output_type": "stream",
     "text": [
      "  3%|▎         | 131/5000 [1:09:32<41:27:23, 30.65s/it]"
     ]
    },
    {
     "name": "stdout",
     "output_type": "stream",
     "text": [
      "[131] train loss: 0.000001 \n",
      "[131] \u001b[94mvalidate\u001b[0m loss: 0.000001\n",
      "Validation loss decreased (0.000001 --> 0.000001).  Saving model ...\n"
     ]
    },
    {
     "name": "stderr",
     "output_type": "stream",
     "text": [
      "  3%|▎         | 132/5000 [1:10:03<41:42:07, 30.84s/it]"
     ]
    },
    {
     "name": "stdout",
     "output_type": "stream",
     "text": [
      "[132] train loss: 0.000001 \n",
      "[132] \u001b[94mvalidate\u001b[0m loss: 0.000001\n",
      "Validation loss decreased (0.000001 --> 0.000001).  Saving model ...\n"
     ]
    },
    {
     "name": "stderr",
     "output_type": "stream",
     "text": [
      "  3%|▎         | 133/5000 [1:10:34<41:41:38, 30.84s/it]"
     ]
    },
    {
     "name": "stdout",
     "output_type": "stream",
     "text": [
      "[133] train loss: 0.000001 \n",
      "[133] \u001b[94mvalidate\u001b[0m loss: 0.000001\n",
      "Validation loss decreased (0.000001 --> 0.000001).  Saving model ...\n"
     ]
    },
    {
     "name": "stderr",
     "output_type": "stream",
     "text": [
      "  3%|▎         | 134/5000 [1:11:05<41:54:50, 31.01s/it]"
     ]
    },
    {
     "name": "stdout",
     "output_type": "stream",
     "text": [
      "[134] train loss: 0.000001 \n",
      "[134] \u001b[94mvalidate\u001b[0m loss: 0.000001\n",
      "Validation loss decreased (0.000001 --> 0.000001).  Saving model ...\n"
     ]
    },
    {
     "name": "stderr",
     "output_type": "stream",
     "text": [
      "  3%|▎         | 135/5000 [1:11:37<42:07:27, 31.17s/it]"
     ]
    },
    {
     "name": "stdout",
     "output_type": "stream",
     "text": [
      "[135] train loss: 0.000001 \n",
      "[135] \u001b[94mvalidate\u001b[0m loss: 0.000001\n",
      "Validation loss decreased (0.000001 --> 0.000001).  Saving model ...\n"
     ]
    },
    {
     "name": "stderr",
     "output_type": "stream",
     "text": [
      "  3%|▎         | 136/5000 [1:12:07<41:42:17, 30.87s/it]"
     ]
    },
    {
     "name": "stdout",
     "output_type": "stream",
     "text": [
      "[136] train loss: 0.000001 \n",
      "[136] \u001b[94mvalidate\u001b[0m loss: 0.000001\n",
      "Validation loss decreased (0.000001 --> 0.000001).  Saving model ...\n"
     ]
    },
    {
     "name": "stderr",
     "output_type": "stream",
     "text": [
      "  3%|▎         | 137/5000 [1:12:38<41:48:08, 30.95s/it]"
     ]
    },
    {
     "name": "stdout",
     "output_type": "stream",
     "text": [
      "[137] train loss: 0.000001 \n",
      "[137] \u001b[94mvalidate\u001b[0m loss: 0.000001\n",
      "Validation loss decreased (0.000001 --> 0.000001).  Saving model ...\n"
     ]
    },
    {
     "name": "stderr",
     "output_type": "stream",
     "text": [
      "  3%|▎         | 138/5000 [1:13:09<41:42:34, 30.88s/it]"
     ]
    },
    {
     "name": "stdout",
     "output_type": "stream",
     "text": [
      "[138] train loss: 0.000001 \n",
      "[138] \u001b[94mvalidate\u001b[0m loss: 0.000001\n",
      "Validation loss decreased (0.000001 --> 0.000001).  Saving model ...\n"
     ]
    },
    {
     "name": "stderr",
     "output_type": "stream",
     "text": [
      "  3%|▎         | 139/5000 [1:13:40<41:50:57, 30.99s/it]"
     ]
    },
    {
     "name": "stdout",
     "output_type": "stream",
     "text": [
      "[139] train loss: 0.000001 \n",
      "[139] \u001b[94mvalidate\u001b[0m loss: 0.000001\n",
      "Validation loss decreased (0.000001 --> 0.000001).  Saving model ...\n"
     ]
    },
    {
     "name": "stderr",
     "output_type": "stream",
     "text": [
      "  3%|▎         | 140/5000 [1:14:12<42:20:00, 31.36s/it]"
     ]
    },
    {
     "name": "stdout",
     "output_type": "stream",
     "text": [
      "[140] train loss: 0.000001 \n",
      "[140] \u001b[94mvalidate\u001b[0m loss: 0.000001\n",
      "Validation loss decreased (0.000001 --> 0.000001).  Saving model ...\n"
     ]
    },
    {
     "name": "stderr",
     "output_type": "stream",
     "text": [
      "  3%|▎         | 141/5000 [1:14:43<42:07:26, 31.21s/it]"
     ]
    },
    {
     "name": "stdout",
     "output_type": "stream",
     "text": [
      "[141] train loss: 0.000001 \n",
      "[141] \u001b[94mvalidate\u001b[0m loss: 0.000001\n",
      "Validation loss decreased (0.000001 --> 0.000001).  Saving model ...\n"
     ]
    },
    {
     "name": "stderr",
     "output_type": "stream",
     "text": [
      "  3%|▎         | 142/5000 [1:15:14<41:59:20, 31.12s/it]"
     ]
    },
    {
     "name": "stdout",
     "output_type": "stream",
     "text": [
      "[142] train loss: 0.000001 \n",
      "[142] \u001b[94mvalidate\u001b[0m loss: 0.000001\n",
      "Validation loss decreased (0.000001 --> 0.000001).  Saving model ...\n"
     ]
    },
    {
     "name": "stderr",
     "output_type": "stream",
     "text": [
      "  3%|▎         | 143/5000 [1:15:45<41:50:35, 31.01s/it]"
     ]
    },
    {
     "name": "stdout",
     "output_type": "stream",
     "text": [
      "[143] train loss: 0.000001 \n",
      "[143] \u001b[94mvalidate\u001b[0m loss: 0.000001\n",
      "Validation loss decreased (0.000001 --> 0.000001).  Saving model ...\n"
     ]
    },
    {
     "name": "stderr",
     "output_type": "stream",
     "text": [
      "  3%|▎         | 144/5000 [1:16:16<41:44:37, 30.95s/it]"
     ]
    },
    {
     "name": "stdout",
     "output_type": "stream",
     "text": [
      "[144] train loss: 0.000001 \n",
      "[144] \u001b[94mvalidate\u001b[0m loss: 0.000001\n",
      "Validation loss decreased (0.000001 --> 0.000001).  Saving model ...\n"
     ]
    },
    {
     "name": "stderr",
     "output_type": "stream",
     "text": [
      "  3%|▎         | 145/5000 [1:16:47<41:41:29, 30.91s/it]"
     ]
    },
    {
     "name": "stdout",
     "output_type": "stream",
     "text": [
      "[145] train loss: 0.000001 \n",
      "[145] \u001b[94mvalidate\u001b[0m loss: 0.000001\n",
      "EarlyStopping counter: 1 out of 20\n"
     ]
    },
    {
     "name": "stderr",
     "output_type": "stream",
     "text": [
      "  3%|▎         | 146/5000 [1:17:17<41:41:10, 30.92s/it]"
     ]
    },
    {
     "name": "stdout",
     "output_type": "stream",
     "text": [
      "[146] train loss: 0.000001 \n",
      "[146] \u001b[94mvalidate\u001b[0m loss: 0.000001\n",
      "EarlyStopping counter: 2 out of 20\n"
     ]
    },
    {
     "name": "stderr",
     "output_type": "stream",
     "text": [
      "  3%|▎         | 147/5000 [1:17:45<40:19:54, 29.92s/it]"
     ]
    },
    {
     "name": "stdout",
     "output_type": "stream",
     "text": [
      "[147] train loss: 0.000001 \n",
      "[147] \u001b[94mvalidate\u001b[0m loss: 0.000001\n",
      "Validation loss decreased (0.000001 --> 0.000001).  Saving model ...\n"
     ]
    },
    {
     "name": "stderr",
     "output_type": "stream",
     "text": [
      "  3%|▎         | 148/5000 [1:18:16<40:49:41, 30.29s/it]"
     ]
    },
    {
     "name": "stdout",
     "output_type": "stream",
     "text": [
      "[148] train loss: 0.000001 \n",
      "[148] \u001b[94mvalidate\u001b[0m loss: 0.000001\n",
      "Validation loss decreased (0.000001 --> 0.000001).  Saving model ...\n"
     ]
    },
    {
     "name": "stderr",
     "output_type": "stream",
     "text": [
      "  3%|▎         | 149/5000 [1:18:50<42:13:19, 31.33s/it]"
     ]
    },
    {
     "name": "stdout",
     "output_type": "stream",
     "text": [
      "[149] train loss: 0.000001 \n",
      "[149] \u001b[94mvalidate\u001b[0m loss: 0.000001\n",
      "Validation loss decreased (0.000001 --> 0.000001).  Saving model ...\n"
     ]
    },
    {
     "name": "stderr",
     "output_type": "stream",
     "text": [
      "  3%|▎         | 150/5000 [1:19:24<43:23:47, 32.21s/it]"
     ]
    },
    {
     "name": "stdout",
     "output_type": "stream",
     "text": [
      "[150] train loss: 0.000001 \n",
      "[150] \u001b[94mvalidate\u001b[0m loss: 0.000001\n",
      "Validation loss decreased (0.000001 --> 0.000001).  Saving model ...\n"
     ]
    },
    {
     "name": "stderr",
     "output_type": "stream",
     "text": [
      "  3%|▎         | 151/5000 [1:19:59<44:23:41, 32.96s/it]"
     ]
    },
    {
     "name": "stdout",
     "output_type": "stream",
     "text": [
      "[151] train loss: 0.000001 \n",
      "[151] \u001b[94mvalidate\u001b[0m loss: 0.000001\n",
      "Validation loss decreased (0.000001 --> 0.000001).  Saving model ...\n"
     ]
    },
    {
     "name": "stderr",
     "output_type": "stream",
     "text": [
      "  3%|▎         | 152/5000 [1:20:30<43:43:10, 32.47s/it]"
     ]
    },
    {
     "name": "stdout",
     "output_type": "stream",
     "text": [
      "[152] train loss: 0.000001 \n",
      "[152] \u001b[94mvalidate\u001b[0m loss: 0.000001\n",
      "Validation loss decreased (0.000001 --> 0.000001).  Saving model ...\n"
     ]
    },
    {
     "name": "stderr",
     "output_type": "stream",
     "text": [
      "  3%|▎         | 153/5000 [1:21:04<44:18:00, 32.90s/it]"
     ]
    },
    {
     "name": "stdout",
     "output_type": "stream",
     "text": [
      "[153] train loss: 0.000001 \n",
      "[153] \u001b[94mvalidate\u001b[0m loss: 0.000001\n",
      "EarlyStopping counter: 1 out of 20\n"
     ]
    },
    {
     "name": "stderr",
     "output_type": "stream",
     "text": [
      "  3%|▎         | 154/5000 [1:21:39<44:54:36, 33.36s/it]"
     ]
    },
    {
     "name": "stdout",
     "output_type": "stream",
     "text": [
      "[154] train loss: 0.000001 \n",
      "[154] \u001b[94mvalidate\u001b[0m loss: 0.000001\n",
      "EarlyStopping counter: 2 out of 20\n"
     ]
    },
    {
     "name": "stderr",
     "output_type": "stream",
     "text": [
      "  3%|▎         | 155/5000 [1:22:06<42:39:11, 31.69s/it]"
     ]
    },
    {
     "name": "stdout",
     "output_type": "stream",
     "text": [
      "[155] train loss: 0.000001 \n",
      "[155] \u001b[94mvalidate\u001b[0m loss: 0.000001\n",
      "Validation loss decreased (0.000001 --> 0.000001).  Saving model ...\n"
     ]
    },
    {
     "name": "stderr",
     "output_type": "stream",
     "text": [
      "  3%|▎         | 156/5000 [1:22:36<41:43:10, 31.01s/it]"
     ]
    },
    {
     "name": "stdout",
     "output_type": "stream",
     "text": [
      "[156] train loss: 0.000001 \n",
      "[156] \u001b[94mvalidate\u001b[0m loss: 0.000001\n",
      "EarlyStopping counter: 1 out of 20\n"
     ]
    },
    {
     "name": "stderr",
     "output_type": "stream",
     "text": [
      "  3%|▎         | 157/5000 [1:23:06<41:30:33, 30.86s/it]"
     ]
    },
    {
     "name": "stdout",
     "output_type": "stream",
     "text": [
      "[157] train loss: 0.000001 \n",
      "[157] \u001b[94mvalidate\u001b[0m loss: 0.000001\n",
      "Validation loss decreased (0.000001 --> 0.000001).  Saving model ...\n"
     ]
    },
    {
     "name": "stderr",
     "output_type": "stream",
     "text": [
      "  3%|▎         | 158/5000 [1:23:37<41:33:19, 30.90s/it]"
     ]
    },
    {
     "name": "stdout",
     "output_type": "stream",
     "text": [
      "[158] train loss: 0.000001 \n",
      "[158] \u001b[94mvalidate\u001b[0m loss: 0.000001\n",
      "Validation loss decreased (0.000001 --> 0.000001).  Saving model ...\n"
     ]
    },
    {
     "name": "stderr",
     "output_type": "stream",
     "text": [
      "  3%|▎         | 159/5000 [1:24:08<41:26:04, 30.81s/it]"
     ]
    },
    {
     "name": "stdout",
     "output_type": "stream",
     "text": [
      "[159] train loss: 0.000001 \n",
      "[159] \u001b[94mvalidate\u001b[0m loss: 0.000001\n",
      "Validation loss decreased (0.000001 --> 0.000001).  Saving model ...\n"
     ]
    },
    {
     "name": "stderr",
     "output_type": "stream",
     "text": [
      "  3%|▎         | 160/5000 [1:24:34<39:37:00, 29.47s/it]"
     ]
    },
    {
     "name": "stdout",
     "output_type": "stream",
     "text": [
      "[160] train loss: 0.000001 \n",
      "[160] \u001b[94mvalidate\u001b[0m loss: 0.000001\n",
      "Validation loss decreased (0.000001 --> 0.000001).  Saving model ...\n"
     ]
    },
    {
     "name": "stderr",
     "output_type": "stream",
     "text": [
      "  3%|▎         | 161/5000 [1:25:05<40:11:46, 29.90s/it]"
     ]
    },
    {
     "name": "stdout",
     "output_type": "stream",
     "text": [
      "[161] train loss: 0.000001 \n",
      "[161] \u001b[94mvalidate\u001b[0m loss: 0.000001\n",
      "Validation loss decreased (0.000001 --> 0.000001).  Saving model ...\n"
     ]
    },
    {
     "name": "stderr",
     "output_type": "stream",
     "text": [
      "  3%|▎         | 162/5000 [1:25:38<41:32:09, 30.91s/it]"
     ]
    },
    {
     "name": "stdout",
     "output_type": "stream",
     "text": [
      "[162] train loss: 0.000001 \n",
      "[162] \u001b[94mvalidate\u001b[0m loss: 0.000001\n",
      "Validation loss decreased (0.000001 --> 0.000001).  Saving model ...\n"
     ]
    },
    {
     "name": "stderr",
     "output_type": "stream",
     "text": [
      "  3%|▎         | 163/5000 [1:26:12<42:29:25, 31.62s/it]"
     ]
    },
    {
     "name": "stdout",
     "output_type": "stream",
     "text": [
      "[163] train loss: 0.000001 \n",
      "[163] \u001b[94mvalidate\u001b[0m loss: 0.000001\n",
      "EarlyStopping counter: 1 out of 20\n"
     ]
    },
    {
     "name": "stderr",
     "output_type": "stream",
     "text": [
      "  3%|▎         | 164/5000 [1:26:45<43:08:40, 32.12s/it]"
     ]
    },
    {
     "name": "stdout",
     "output_type": "stream",
     "text": [
      "[164] train loss: 0.000001 \n",
      "[164] \u001b[94mvalidate\u001b[0m loss: 0.000001\n",
      "Validation loss decreased (0.000001 --> 0.000001).  Saving model ...\n"
     ]
    },
    {
     "name": "stderr",
     "output_type": "stream",
     "text": [
      "  3%|▎         | 165/5000 [1:27:17<43:12:55, 32.18s/it]"
     ]
    },
    {
     "name": "stdout",
     "output_type": "stream",
     "text": [
      "[165] train loss: 0.000001 \n",
      "[165] \u001b[94mvalidate\u001b[0m loss: 0.000001\n",
      "Validation loss decreased (0.000001 --> 0.000001).  Saving model ...\n"
     ]
    },
    {
     "name": "stderr",
     "output_type": "stream",
     "text": [
      "  3%|▎         | 166/5000 [1:27:50<43:35:50, 32.47s/it]"
     ]
    },
    {
     "name": "stdout",
     "output_type": "stream",
     "text": [
      "[166] train loss: 0.000001 \n",
      "[166] \u001b[94mvalidate\u001b[0m loss: 0.000001\n",
      "Validation loss decreased (0.000001 --> 0.000001).  Saving model ...\n"
     ]
    },
    {
     "name": "stderr",
     "output_type": "stream",
     "text": [
      "  3%|▎         | 167/5000 [1:28:24<44:05:47, 32.85s/it]"
     ]
    },
    {
     "name": "stdout",
     "output_type": "stream",
     "text": [
      "[167] train loss: 0.000001 \n",
      "[167] \u001b[94mvalidate\u001b[0m loss: 0.000001\n",
      "Validation loss decreased (0.000001 --> 0.000001).  Saving model ...\n"
     ]
    },
    {
     "name": "stderr",
     "output_type": "stream",
     "text": [
      "  3%|▎         | 168/5000 [1:28:57<43:54:42, 32.72s/it]"
     ]
    },
    {
     "name": "stdout",
     "output_type": "stream",
     "text": [
      "[168] train loss: 0.000001 \n",
      "[168] \u001b[94mvalidate\u001b[0m loss: 0.000001\n",
      "Validation loss decreased (0.000001 --> 0.000001).  Saving model ...\n"
     ]
    },
    {
     "name": "stderr",
     "output_type": "stream",
     "text": [
      "  3%|▎         | 169/5000 [1:29:30<44:04:27, 32.84s/it]"
     ]
    },
    {
     "name": "stdout",
     "output_type": "stream",
     "text": [
      "[169] train loss: 0.000001 \n",
      "[169] \u001b[94mvalidate\u001b[0m loss: 0.000001\n",
      "Validation loss decreased (0.000001 --> 0.000001).  Saving model ...\n"
     ]
    },
    {
     "name": "stderr",
     "output_type": "stream",
     "text": [
      "  3%|▎         | 170/5000 [1:30:02<43:58:06, 32.77s/it]"
     ]
    },
    {
     "name": "stdout",
     "output_type": "stream",
     "text": [
      "[170] train loss: 0.000001 \n",
      "[170] \u001b[94mvalidate\u001b[0m loss: 0.000001\n",
      "EarlyStopping counter: 1 out of 20\n"
     ]
    },
    {
     "name": "stderr",
     "output_type": "stream",
     "text": [
      "  3%|▎         | 171/5000 [1:30:35<43:59:46, 32.80s/it]"
     ]
    },
    {
     "name": "stdout",
     "output_type": "stream",
     "text": [
      "[171] train loss: 0.000001 \n",
      "[171] \u001b[94mvalidate\u001b[0m loss: 0.000001\n",
      "Validation loss decreased (0.000001 --> 0.000001).  Saving model ...\n"
     ]
    },
    {
     "name": "stderr",
     "output_type": "stream",
     "text": [
      "  3%|▎         | 172/5000 [1:31:08<44:08:47, 32.92s/it]"
     ]
    },
    {
     "name": "stdout",
     "output_type": "stream",
     "text": [
      "[172] train loss: 0.000001 \n",
      "[172] \u001b[94mvalidate\u001b[0m loss: 0.000001\n",
      "Validation loss decreased (0.000001 --> 0.000001).  Saving model ...\n"
     ]
    },
    {
     "name": "stderr",
     "output_type": "stream",
     "text": [
      "  3%|▎         | 173/5000 [1:31:42<44:31:35, 33.21s/it]"
     ]
    },
    {
     "name": "stdout",
     "output_type": "stream",
     "text": [
      "[173] train loss: 0.000001 \n",
      "[173] \u001b[94mvalidate\u001b[0m loss: 0.000001\n",
      "Validation loss decreased (0.000001 --> 0.000001).  Saving model ...\n"
     ]
    },
    {
     "name": "stderr",
     "output_type": "stream",
     "text": [
      "  3%|▎         | 174/5000 [1:32:15<44:08:08, 32.92s/it]"
     ]
    },
    {
     "name": "stdout",
     "output_type": "stream",
     "text": [
      "[174] train loss: 0.000001 \n",
      "[174] \u001b[94mvalidate\u001b[0m loss: 0.000001\n",
      "Validation loss decreased (0.000001 --> 0.000001).  Saving model ...\n"
     ]
    },
    {
     "name": "stderr",
     "output_type": "stream",
     "text": [
      "  4%|▎         | 175/5000 [1:32:48<44:22:04, 33.10s/it]"
     ]
    },
    {
     "name": "stdout",
     "output_type": "stream",
     "text": [
      "[175] train loss: 0.000001 \n",
      "[175] \u001b[94mvalidate\u001b[0m loss: 0.000001\n",
      "Validation loss decreased (0.000001 --> 0.000001).  Saving model ...\n"
     ]
    },
    {
     "name": "stderr",
     "output_type": "stream",
     "text": [
      "  4%|▎         | 176/5000 [1:33:22<44:35:21, 33.28s/it]"
     ]
    },
    {
     "name": "stdout",
     "output_type": "stream",
     "text": [
      "[176] train loss: 0.000001 \n",
      "[176] \u001b[94mvalidate\u001b[0m loss: 0.000001\n",
      "Validation loss decreased (0.000001 --> 0.000001).  Saving model ...\n"
     ]
    },
    {
     "name": "stderr",
     "output_type": "stream",
     "text": [
      "  4%|▎         | 177/5000 [1:33:54<44:22:17, 33.12s/it]"
     ]
    },
    {
     "name": "stdout",
     "output_type": "stream",
     "text": [
      "[177] train loss: 0.000001 \n",
      "[177] \u001b[94mvalidate\u001b[0m loss: 0.000001\n",
      "Validation loss decreased (0.000001 --> 0.000001).  Saving model ...\n"
     ]
    },
    {
     "name": "stderr",
     "output_type": "stream",
     "text": [
      "  4%|▎         | 178/5000 [1:34:28<44:37:20, 33.31s/it]"
     ]
    },
    {
     "name": "stdout",
     "output_type": "stream",
     "text": [
      "[178] train loss: 0.000001 \n",
      "[178] \u001b[94mvalidate\u001b[0m loss: 0.000001\n",
      "Validation loss decreased (0.000001 --> 0.000001).  Saving model ...\n"
     ]
    },
    {
     "name": "stderr",
     "output_type": "stream",
     "text": [
      "  4%|▎         | 179/5000 [1:35:02<44:39:18, 33.35s/it]"
     ]
    },
    {
     "name": "stdout",
     "output_type": "stream",
     "text": [
      "[179] train loss: 0.000001 \n",
      "[179] \u001b[94mvalidate\u001b[0m loss: 0.000001\n",
      "Validation loss decreased (0.000001 --> 0.000001).  Saving model ...\n"
     ]
    },
    {
     "name": "stderr",
     "output_type": "stream",
     "text": [
      "  4%|▎         | 180/5000 [1:35:36<44:52:04, 33.51s/it]"
     ]
    },
    {
     "name": "stdout",
     "output_type": "stream",
     "text": [
      "[180] train loss: 0.000001 \n",
      "[180] \u001b[94mvalidate\u001b[0m loss: 0.000001\n",
      "Validation loss decreased (0.000001 --> 0.000001).  Saving model ...\n"
     ]
    },
    {
     "name": "stderr",
     "output_type": "stream",
     "text": [
      "  4%|▎         | 181/5000 [1:36:09<44:41:16, 33.38s/it]"
     ]
    },
    {
     "name": "stdout",
     "output_type": "stream",
     "text": [
      "[181] train loss: 0.000001 \n",
      "[181] \u001b[94mvalidate\u001b[0m loss: 0.000001\n",
      "Validation loss decreased (0.000001 --> 0.000001).  Saving model ...\n"
     ]
    },
    {
     "name": "stderr",
     "output_type": "stream",
     "text": [
      "  4%|▎         | 182/5000 [1:36:38<43:13:50, 32.30s/it]"
     ]
    },
    {
     "name": "stdout",
     "output_type": "stream",
     "text": [
      "[182] train loss: 0.000001 \n",
      "[182] \u001b[94mvalidate\u001b[0m loss: 0.000001\n",
      "Validation loss decreased (0.000001 --> 0.000001).  Saving model ...\n"
     ]
    },
    {
     "name": "stderr",
     "output_type": "stream",
     "text": [
      "  4%|▎         | 183/5000 [1:37:06<41:13:53, 30.81s/it]"
     ]
    },
    {
     "name": "stdout",
     "output_type": "stream",
     "text": [
      "[183] train loss: 0.000001 \n",
      "[183] \u001b[94mvalidate\u001b[0m loss: 0.000001\n",
      "Validation loss decreased (0.000001 --> 0.000001).  Saving model ...\n"
     ]
    },
    {
     "name": "stderr",
     "output_type": "stream",
     "text": [
      "  4%|▎         | 184/5000 [1:37:39<42:02:38, 31.43s/it]"
     ]
    },
    {
     "name": "stdout",
     "output_type": "stream",
     "text": [
      "[184] train loss: 0.000001 \n",
      "[184] \u001b[94mvalidate\u001b[0m loss: 0.000001\n",
      "Validation loss decreased (0.000001 --> 0.000001).  Saving model ...\n"
     ]
    },
    {
     "name": "stderr",
     "output_type": "stream",
     "text": [
      "  4%|▎         | 185/5000 [1:38:12<42:42:42, 31.93s/it]"
     ]
    },
    {
     "name": "stdout",
     "output_type": "stream",
     "text": [
      "[185] train loss: 0.000001 \n",
      "[185] \u001b[94mvalidate\u001b[0m loss: 0.000001\n",
      "Validation loss decreased (0.000001 --> 0.000001).  Saving model ...\n"
     ]
    },
    {
     "name": "stderr",
     "output_type": "stream",
     "text": [
      "  4%|▎         | 186/5000 [1:38:44<42:51:13, 32.05s/it]"
     ]
    },
    {
     "name": "stdout",
     "output_type": "stream",
     "text": [
      "[186] train loss: 0.000001 \n",
      "[186] \u001b[94mvalidate\u001b[0m loss: 0.000001\n",
      "EarlyStopping counter: 1 out of 20\n"
     ]
    },
    {
     "name": "stderr",
     "output_type": "stream",
     "text": [
      "  4%|▎         | 187/5000 [1:39:17<43:12:45, 32.32s/it]"
     ]
    },
    {
     "name": "stdout",
     "output_type": "stream",
     "text": [
      "[187] train loss: 0.000001 \n",
      "[187] \u001b[94mvalidate\u001b[0m loss: 0.000001\n",
      "EarlyStopping counter: 2 out of 20\n"
     ]
    },
    {
     "name": "stderr",
     "output_type": "stream",
     "text": [
      "  4%|▍         | 188/5000 [1:39:48<42:51:27, 32.06s/it]"
     ]
    },
    {
     "name": "stdout",
     "output_type": "stream",
     "text": [
      "[188] train loss: 0.000001 \n",
      "[188] \u001b[94mvalidate\u001b[0m loss: 0.000001\n",
      "Validation loss decreased (0.000001 --> 0.000001).  Saving model ...\n"
     ]
    },
    {
     "name": "stderr",
     "output_type": "stream",
     "text": [
      "  4%|▍         | 189/5000 [1:40:21<43:12:30, 32.33s/it]"
     ]
    },
    {
     "name": "stdout",
     "output_type": "stream",
     "text": [
      "[189] train loss: 0.000001 \n",
      "[189] \u001b[94mvalidate\u001b[0m loss: 0.000001\n",
      "Validation loss decreased (0.000001 --> 0.000001).  Saving model ...\n"
     ]
    },
    {
     "name": "stderr",
     "output_type": "stream",
     "text": [
      "  4%|▍         | 190/5000 [1:40:54<43:12:20, 32.34s/it]"
     ]
    },
    {
     "name": "stdout",
     "output_type": "stream",
     "text": [
      "[190] train loss: 0.000001 \n",
      "[190] \u001b[94mvalidate\u001b[0m loss: 0.000001\n",
      "EarlyStopping counter: 1 out of 20\n"
     ]
    },
    {
     "name": "stderr",
     "output_type": "stream",
     "text": [
      "  4%|▍         | 191/5000 [1:41:25<42:52:16, 32.09s/it]"
     ]
    },
    {
     "name": "stdout",
     "output_type": "stream",
     "text": [
      "[191] train loss: 0.000001 \n",
      "[191] \u001b[94mvalidate\u001b[0m loss: 0.000001\n",
      "Validation loss decreased (0.000001 --> 0.000001).  Saving model ...\n"
     ]
    },
    {
     "name": "stderr",
     "output_type": "stream",
     "text": [
      "  4%|▍         | 192/5000 [1:41:58<42:55:21, 32.14s/it]"
     ]
    },
    {
     "name": "stdout",
     "output_type": "stream",
     "text": [
      "[192] train loss: 0.000001 \n",
      "[192] \u001b[94mvalidate\u001b[0m loss: 0.000001\n",
      "Validation loss decreased (0.000001 --> 0.000001).  Saving model ...\n"
     ]
    },
    {
     "name": "stderr",
     "output_type": "stream",
     "text": [
      "  4%|▍         | 193/5000 [1:42:30<43:02:43, 32.24s/it]"
     ]
    },
    {
     "name": "stdout",
     "output_type": "stream",
     "text": [
      "[193] train loss: 0.000001 \n",
      "[193] \u001b[94mvalidate\u001b[0m loss: 0.000001\n",
      "Validation loss decreased (0.000001 --> 0.000001).  Saving model ...\n"
     ]
    },
    {
     "name": "stderr",
     "output_type": "stream",
     "text": [
      "  4%|▍         | 194/5000 [1:43:02<43:05:05, 32.27s/it]"
     ]
    },
    {
     "name": "stdout",
     "output_type": "stream",
     "text": [
      "[194] train loss: 0.000001 \n",
      "[194] \u001b[94mvalidate\u001b[0m loss: 0.000001\n",
      "Validation loss decreased (0.000001 --> 0.000001).  Saving model ...\n"
     ]
    },
    {
     "name": "stderr",
     "output_type": "stream",
     "text": [
      "  4%|▍         | 195/5000 [1:43:34<42:58:19, 32.20s/it]"
     ]
    },
    {
     "name": "stdout",
     "output_type": "stream",
     "text": [
      "[195] train loss: 0.000001 \n",
      "[195] \u001b[94mvalidate\u001b[0m loss: 0.000001\n",
      "Validation loss decreased (0.000001 --> 0.000001).  Saving model ...\n"
     ]
    },
    {
     "name": "stderr",
     "output_type": "stream",
     "text": [
      "  4%|▍         | 196/5000 [1:44:04<42:05:06, 31.54s/it]"
     ]
    },
    {
     "name": "stdout",
     "output_type": "stream",
     "text": [
      "[196] train loss: 0.000001 \n",
      "[196] \u001b[94mvalidate\u001b[0m loss: 0.000001\n",
      "Validation loss decreased (0.000001 --> 0.000001).  Saving model ...\n"
     ]
    },
    {
     "name": "stderr",
     "output_type": "stream",
     "text": [
      "  4%|▍         | 197/5000 [1:44:32<40:27:09, 30.32s/it]"
     ]
    },
    {
     "name": "stdout",
     "output_type": "stream",
     "text": [
      "[197] train loss: 0.000001 \n",
      "[197] \u001b[94mvalidate\u001b[0m loss: 0.000001\n",
      "Validation loss decreased (0.000001 --> 0.000001).  Saving model ...\n"
     ]
    },
    {
     "name": "stderr",
     "output_type": "stream",
     "text": [
      "  4%|▍         | 198/5000 [1:45:02<40:12:07, 30.14s/it]"
     ]
    },
    {
     "name": "stdout",
     "output_type": "stream",
     "text": [
      "[198] train loss: 0.000001 \n",
      "[198] \u001b[94mvalidate\u001b[0m loss: 0.000001\n",
      "Validation loss decreased (0.000001 --> 0.000001).  Saving model ...\n"
     ]
    },
    {
     "name": "stderr",
     "output_type": "stream",
     "text": [
      "  4%|▍         | 199/5000 [1:45:33<40:36:52, 30.45s/it]"
     ]
    },
    {
     "name": "stdout",
     "output_type": "stream",
     "text": [
      "[199] train loss: 0.000001 \n",
      "[199] \u001b[94mvalidate\u001b[0m loss: 0.000001\n",
      "Validation loss decreased (0.000001 --> 0.000001).  Saving model ...\n"
     ]
    },
    {
     "name": "stderr",
     "output_type": "stream",
     "text": [
      "  4%|▍         | 200/5000 [1:46:04<40:52:07, 30.65s/it]"
     ]
    },
    {
     "name": "stdout",
     "output_type": "stream",
     "text": [
      "[200] train loss: 0.000001 \n",
      "[200] \u001b[94mvalidate\u001b[0m loss: 0.000001\n",
      "Validation loss decreased (0.000001 --> 0.000001).  Saving model ...\n"
     ]
    },
    {
     "name": "stderr",
     "output_type": "stream",
     "text": [
      "  4%|▍         | 201/5000 [1:46:33<40:25:18, 30.32s/it]"
     ]
    },
    {
     "name": "stdout",
     "output_type": "stream",
     "text": [
      "[201] train loss: 0.000001 \n",
      "[201] \u001b[94mvalidate\u001b[0m loss: 0.000001\n",
      "Validation loss decreased (0.000001 --> 0.000001).  Saving model ...\n"
     ]
    },
    {
     "name": "stderr",
     "output_type": "stream",
     "text": [
      "  4%|▍         | 202/5000 [1:47:02<39:34:44, 29.70s/it]"
     ]
    },
    {
     "name": "stdout",
     "output_type": "stream",
     "text": [
      "[202] train loss: 0.000001 \n",
      "[202] \u001b[94mvalidate\u001b[0m loss: 0.000001\n",
      "EarlyStopping counter: 1 out of 20\n"
     ]
    },
    {
     "name": "stderr",
     "output_type": "stream",
     "text": [
      "  4%|▍         | 203/5000 [1:47:31<39:31:15, 29.66s/it]"
     ]
    },
    {
     "name": "stdout",
     "output_type": "stream",
     "text": [
      "[203] train loss: 0.000001 \n",
      "[203] \u001b[94mvalidate\u001b[0m loss: 0.000001\n",
      "EarlyStopping counter: 2 out of 20\n"
     ]
    },
    {
     "name": "stderr",
     "output_type": "stream",
     "text": [
      "  4%|▍         | 204/5000 [1:48:03<40:21:15, 30.29s/it]"
     ]
    },
    {
     "name": "stdout",
     "output_type": "stream",
     "text": [
      "[204] train loss: 0.000001 \n",
      "[204] \u001b[94mvalidate\u001b[0m loss: 0.000001\n",
      "EarlyStopping counter: 3 out of 20\n"
     ]
    },
    {
     "name": "stderr",
     "output_type": "stream",
     "text": [
      "  4%|▍         | 205/5000 [1:48:33<40:24:07, 30.33s/it]"
     ]
    },
    {
     "name": "stdout",
     "output_type": "stream",
     "text": [
      "[205] train loss: 0.000001 \n",
      "[205] \u001b[94mvalidate\u001b[0m loss: 0.000001\n",
      "Validation loss decreased (0.000001 --> 0.000001).  Saving model ...\n"
     ]
    },
    {
     "name": "stderr",
     "output_type": "stream",
     "text": [
      "  4%|▍         | 206/5000 [1:49:06<41:20:33, 31.05s/it]"
     ]
    },
    {
     "name": "stdout",
     "output_type": "stream",
     "text": [
      "[206] train loss: 0.000001 \n",
      "[206] \u001b[94mvalidate\u001b[0m loss: 0.000001\n",
      "EarlyStopping counter: 1 out of 20\n"
     ]
    },
    {
     "name": "stderr",
     "output_type": "stream",
     "text": [
      "  4%|▍         | 207/5000 [1:49:39<42:03:13, 31.59s/it]"
     ]
    },
    {
     "name": "stdout",
     "output_type": "stream",
     "text": [
      "[207] train loss: 0.000001 \n",
      "[207] \u001b[94mvalidate\u001b[0m loss: 0.000001\n",
      "EarlyStopping counter: 2 out of 20\n"
     ]
    },
    {
     "name": "stderr",
     "output_type": "stream",
     "text": [
      "  4%|▍         | 208/5000 [1:50:12<42:24:40, 31.86s/it]"
     ]
    },
    {
     "name": "stdout",
     "output_type": "stream",
     "text": [
      "[208] train loss: 0.000001 \n",
      "[208] \u001b[94mvalidate\u001b[0m loss: 0.000001\n",
      "EarlyStopping counter: 3 out of 20\n"
     ]
    },
    {
     "name": "stderr",
     "output_type": "stream",
     "text": [
      "  4%|▍         | 209/5000 [1:50:44<42:45:31, 32.13s/it]"
     ]
    },
    {
     "name": "stdout",
     "output_type": "stream",
     "text": [
      "[209] train loss: 0.000001 \n",
      "[209] \u001b[94mvalidate\u001b[0m loss: 0.000001\n",
      "Validation loss decreased (0.000001 --> 0.000001).  Saving model ...\n"
     ]
    },
    {
     "name": "stderr",
     "output_type": "stream",
     "text": [
      "  4%|▍         | 210/5000 [1:51:15<42:09:25, 31.68s/it]"
     ]
    },
    {
     "name": "stdout",
     "output_type": "stream",
     "text": [
      "[210] train loss: 0.000001 \n",
      "[210] \u001b[94mvalidate\u001b[0m loss: 0.000001\n",
      "Validation loss decreased (0.000001 --> 0.000001).  Saving model ...\n"
     ]
    },
    {
     "name": "stderr",
     "output_type": "stream",
     "text": [
      "  4%|▍         | 211/5000 [1:51:48<42:35:31, 32.02s/it]"
     ]
    },
    {
     "name": "stdout",
     "output_type": "stream",
     "text": [
      "[211] train loss: 0.000001 \n",
      "[211] \u001b[94mvalidate\u001b[0m loss: 0.000001\n",
      "EarlyStopping counter: 1 out of 20\n"
     ]
    },
    {
     "name": "stderr",
     "output_type": "stream",
     "text": [
      "  4%|▍         | 212/5000 [1:52:20<42:47:58, 32.18s/it]"
     ]
    },
    {
     "name": "stdout",
     "output_type": "stream",
     "text": [
      "[212] train loss: 0.000001 \n",
      "[212] \u001b[94mvalidate\u001b[0m loss: 0.000001\n",
      "EarlyStopping counter: 2 out of 20\n"
     ]
    },
    {
     "name": "stderr",
     "output_type": "stream",
     "text": [
      "  4%|▍         | 213/5000 [1:52:53<43:02:57, 32.37s/it]"
     ]
    },
    {
     "name": "stdout",
     "output_type": "stream",
     "text": [
      "[213] train loss: 0.000001 \n",
      "[213] \u001b[94mvalidate\u001b[0m loss: 0.000001\n",
      "EarlyStopping counter: 3 out of 20\n"
     ]
    },
    {
     "name": "stderr",
     "output_type": "stream",
     "text": [
      "  4%|▍         | 214/5000 [1:53:22<41:44:09, 31.39s/it]"
     ]
    },
    {
     "name": "stdout",
     "output_type": "stream",
     "text": [
      "[214] train loss: 0.000001 \n",
      "[214] \u001b[94mvalidate\u001b[0m loss: 0.000001\n",
      "Validation loss decreased (0.000001 --> 0.000001).  Saving model ...\n"
     ]
    },
    {
     "name": "stderr",
     "output_type": "stream",
     "text": [
      "  4%|▍         | 215/5000 [1:53:55<42:22:14, 31.88s/it]"
     ]
    },
    {
     "name": "stdout",
     "output_type": "stream",
     "text": [
      "[215] train loss: 0.000001 \n",
      "[215] \u001b[94mvalidate\u001b[0m loss: 0.000001\n",
      "Validation loss decreased (0.000001 --> 0.000001).  Saving model ...\n"
     ]
    },
    {
     "name": "stderr",
     "output_type": "stream",
     "text": [
      "  4%|▍         | 216/5000 [1:54:28<42:48:41, 32.22s/it]"
     ]
    },
    {
     "name": "stdout",
     "output_type": "stream",
     "text": [
      "[216] train loss: 0.000001 \n",
      "[216] \u001b[94mvalidate\u001b[0m loss: 0.000001\n",
      "Validation loss decreased (0.000001 --> 0.000001).  Saving model ...\n"
     ]
    },
    {
     "name": "stderr",
     "output_type": "stream",
     "text": [
      "  4%|▍         | 217/5000 [1:55:01<43:03:08, 32.40s/it]"
     ]
    },
    {
     "name": "stdout",
     "output_type": "stream",
     "text": [
      "[217] train loss: 0.000001 \n",
      "[217] \u001b[94mvalidate\u001b[0m loss: 0.000001\n",
      "Validation loss decreased (0.000001 --> 0.000001).  Saving model ...\n"
     ]
    },
    {
     "name": "stderr",
     "output_type": "stream",
     "text": [
      "  4%|▍         | 218/5000 [1:55:33<42:50:19, 32.25s/it]"
     ]
    },
    {
     "name": "stdout",
     "output_type": "stream",
     "text": [
      "[218] train loss: 0.000001 \n",
      "[218] \u001b[94mvalidate\u001b[0m loss: 0.000001\n",
      "EarlyStopping counter: 1 out of 20\n"
     ]
    },
    {
     "name": "stderr",
     "output_type": "stream",
     "text": [
      "  4%|▍         | 219/5000 [1:56:05<42:51:01, 32.27s/it]"
     ]
    },
    {
     "name": "stdout",
     "output_type": "stream",
     "text": [
      "[219] train loss: 0.000001 \n",
      "[219] \u001b[94mvalidate\u001b[0m loss: 0.000001\n",
      "EarlyStopping counter: 2 out of 20\n"
     ]
    },
    {
     "name": "stderr",
     "output_type": "stream",
     "text": [
      "  4%|▍         | 220/5000 [1:56:38<43:08:35, 32.49s/it]"
     ]
    },
    {
     "name": "stdout",
     "output_type": "stream",
     "text": [
      "[220] train loss: 0.000001 \n",
      "[220] \u001b[94mvalidate\u001b[0m loss: 0.000001\n",
      "EarlyStopping counter: 3 out of 20\n"
     ]
    },
    {
     "name": "stderr",
     "output_type": "stream",
     "text": [
      "  4%|▍         | 221/5000 [1:57:10<42:38:17, 32.12s/it]"
     ]
    },
    {
     "name": "stdout",
     "output_type": "stream",
     "text": [
      "[221] train loss: 0.000001 \n",
      "[221] \u001b[94mvalidate\u001b[0m loss: 0.000001\n",
      "EarlyStopping counter: 4 out of 20\n"
     ]
    },
    {
     "name": "stderr",
     "output_type": "stream",
     "text": [
      "  4%|▍         | 222/5000 [1:57:42<42:51:04, 32.29s/it]"
     ]
    },
    {
     "name": "stdout",
     "output_type": "stream",
     "text": [
      "[222] train loss: 0.000001 \n",
      "[222] \u001b[94mvalidate\u001b[0m loss: 0.000001\n",
      "EarlyStopping counter: 5 out of 20\n"
     ]
    },
    {
     "name": "stderr",
     "output_type": "stream",
     "text": [
      "  4%|▍         | 223/5000 [1:58:16<43:18:57, 32.64s/it]"
     ]
    },
    {
     "name": "stdout",
     "output_type": "stream",
     "text": [
      "[223] train loss: 0.000001 \n",
      "[223] \u001b[94mvalidate\u001b[0m loss: 0.000001\n",
      "EarlyStopping counter: 6 out of 20\n"
     ]
    },
    {
     "name": "stderr",
     "output_type": "stream",
     "text": [
      "  4%|▍         | 224/5000 [1:58:49<43:28:17, 32.77s/it]"
     ]
    },
    {
     "name": "stdout",
     "output_type": "stream",
     "text": [
      "[224] train loss: 0.000001 \n",
      "[224] \u001b[94mvalidate\u001b[0m loss: 0.000001\n",
      "EarlyStopping counter: 7 out of 20\n"
     ]
    },
    {
     "name": "stderr",
     "output_type": "stream",
     "text": [
      "  4%|▍         | 225/5000 [1:59:22<43:34:56, 32.86s/it]"
     ]
    },
    {
     "name": "stdout",
     "output_type": "stream",
     "text": [
      "[225] train loss: 0.000001 \n",
      "[225] \u001b[94mvalidate\u001b[0m loss: 0.000001\n",
      "EarlyStopping counter: 8 out of 20\n"
     ]
    },
    {
     "name": "stderr",
     "output_type": "stream",
     "text": [
      "  5%|▍         | 226/5000 [1:59:55<43:43:06, 32.97s/it]"
     ]
    },
    {
     "name": "stdout",
     "output_type": "stream",
     "text": [
      "[226] train loss: 0.000001 \n",
      "[226] \u001b[94mvalidate\u001b[0m loss: 0.000001\n",
      "EarlyStopping counter: 9 out of 20\n"
     ]
    },
    {
     "name": "stderr",
     "output_type": "stream",
     "text": [
      "  5%|▍         | 227/5000 [2:00:28<43:42:46, 32.97s/it]"
     ]
    },
    {
     "name": "stdout",
     "output_type": "stream",
     "text": [
      "[227] train loss: 0.000001 \n",
      "[227] \u001b[94mvalidate\u001b[0m loss: 0.000001\n",
      "EarlyStopping counter: 10 out of 20\n"
     ]
    },
    {
     "name": "stderr",
     "output_type": "stream",
     "text": [
      "  5%|▍         | 228/5000 [2:01:01<43:49:59, 33.07s/it]"
     ]
    },
    {
     "name": "stdout",
     "output_type": "stream",
     "text": [
      "[228] train loss: 0.000001 \n",
      "[228] \u001b[94mvalidate\u001b[0m loss: 0.000001\n",
      "EarlyStopping counter: 11 out of 20\n"
     ]
    },
    {
     "name": "stderr",
     "output_type": "stream",
     "text": [
      "  5%|▍         | 229/5000 [2:01:31<42:37:21, 32.16s/it]"
     ]
    },
    {
     "name": "stdout",
     "output_type": "stream",
     "text": [
      "[229] train loss: 0.000001 \n",
      "[229] \u001b[94mvalidate\u001b[0m loss: 0.000001\n",
      "EarlyStopping counter: 12 out of 20\n"
     ]
    },
    {
     "name": "stderr",
     "output_type": "stream",
     "text": [
      "  5%|▍         | 230/5000 [2:02:04<42:57:53, 32.43s/it]"
     ]
    },
    {
     "name": "stdout",
     "output_type": "stream",
     "text": [
      "[230] train loss: 0.000001 \n",
      "[230] \u001b[94mvalidate\u001b[0m loss: 0.000001\n",
      "EarlyStopping counter: 13 out of 20\n"
     ]
    },
    {
     "name": "stderr",
     "output_type": "stream",
     "text": [
      "  5%|▍         | 231/5000 [2:02:37<43:12:57, 32.62s/it]"
     ]
    },
    {
     "name": "stdout",
     "output_type": "stream",
     "text": [
      "[231] train loss: 0.000001 \n",
      "[231] \u001b[94mvalidate\u001b[0m loss: 0.000001\n",
      "EarlyStopping counter: 14 out of 20\n"
     ]
    },
    {
     "name": "stderr",
     "output_type": "stream",
     "text": [
      "  5%|▍         | 232/5000 [2:03:11<43:29:10, 32.83s/it]"
     ]
    },
    {
     "name": "stdout",
     "output_type": "stream",
     "text": [
      "[232] train loss: 0.000001 \n",
      "[232] \u001b[94mvalidate\u001b[0m loss: 0.000001\n",
      "EarlyStopping counter: 15 out of 20\n"
     ]
    },
    {
     "name": "stderr",
     "output_type": "stream",
     "text": [
      "  5%|▍         | 233/5000 [2:03:43<43:22:37, 32.76s/it]"
     ]
    },
    {
     "name": "stdout",
     "output_type": "stream",
     "text": [
      "[233] train loss: 0.000001 \n",
      "[233] \u001b[94mvalidate\u001b[0m loss: 0.000001\n",
      "EarlyStopping counter: 16 out of 20\n"
     ]
    },
    {
     "name": "stderr",
     "output_type": "stream",
     "text": [
      "  5%|▍         | 234/5000 [2:04:16<43:29:55, 32.86s/it]"
     ]
    },
    {
     "name": "stdout",
     "output_type": "stream",
     "text": [
      "[234] train loss: 0.000001 \n",
      "[234] \u001b[94mvalidate\u001b[0m loss: 0.000001\n",
      "EarlyStopping counter: 17 out of 20\n"
     ]
    },
    {
     "name": "stderr",
     "output_type": "stream",
     "text": [
      "  5%|▍         | 235/5000 [2:04:49<43:22:27, 32.77s/it]"
     ]
    },
    {
     "name": "stdout",
     "output_type": "stream",
     "text": [
      "[235] train loss: 0.000001 \n",
      "[235] \u001b[94mvalidate\u001b[0m loss: 0.000001\n",
      "EarlyStopping counter: 18 out of 20\n"
     ]
    },
    {
     "name": "stderr",
     "output_type": "stream",
     "text": [
      "  5%|▍         | 236/5000 [2:05:21<42:54:14, 32.42s/it]"
     ]
    },
    {
     "name": "stdout",
     "output_type": "stream",
     "text": [
      "[236] train loss: 0.000001 \n",
      "[236] \u001b[94mvalidate\u001b[0m loss: 0.000001\n",
      "Validation loss decreased (0.000001 --> 0.000001).  Saving model ...\n"
     ]
    },
    {
     "name": "stderr",
     "output_type": "stream",
     "text": [
      "  5%|▍         | 237/5000 [2:05:53<42:53:13, 32.42s/it]"
     ]
    },
    {
     "name": "stdout",
     "output_type": "stream",
     "text": [
      "[237] train loss: 0.000001 \n",
      "[237] \u001b[94mvalidate\u001b[0m loss: 0.000001\n",
      "Validation loss decreased (0.000001 --> 0.000001).  Saving model ...\n"
     ]
    },
    {
     "name": "stderr",
     "output_type": "stream",
     "text": [
      "  5%|▍         | 238/5000 [2:06:26<43:05:34, 32.58s/it]"
     ]
    },
    {
     "name": "stdout",
     "output_type": "stream",
     "text": [
      "[238] train loss: 0.000001 \n",
      "[238] \u001b[94mvalidate\u001b[0m loss: 0.000001\n",
      "Validation loss decreased (0.000001 --> 0.000001).  Saving model ...\n"
     ]
    },
    {
     "name": "stderr",
     "output_type": "stream",
     "text": [
      "  5%|▍         | 239/5000 [2:06:59<43:11:07, 32.65s/it]"
     ]
    },
    {
     "name": "stdout",
     "output_type": "stream",
     "text": [
      "[239] train loss: 0.000001 \n",
      "[239] \u001b[94mvalidate\u001b[0m loss: 0.000001\n",
      "Validation loss decreased (0.000001 --> 0.000001).  Saving model ...\n"
     ]
    },
    {
     "name": "stderr",
     "output_type": "stream",
     "text": [
      "  5%|▍         | 240/5000 [2:07:31<43:10:41, 32.66s/it]"
     ]
    },
    {
     "name": "stdout",
     "output_type": "stream",
     "text": [
      "[240] train loss: 0.000001 \n",
      "[240] \u001b[94mvalidate\u001b[0m loss: 0.000001\n",
      "Validation loss decreased (0.000001 --> 0.000001).  Saving model ...\n"
     ]
    },
    {
     "name": "stderr",
     "output_type": "stream",
     "text": [
      "  5%|▍         | 241/5000 [2:08:04<43:07:54, 32.63s/it]"
     ]
    },
    {
     "name": "stdout",
     "output_type": "stream",
     "text": [
      "[241] train loss: 0.000001 \n",
      "[241] \u001b[94mvalidate\u001b[0m loss: 0.000001\n",
      "Validation loss decreased (0.000001 --> 0.000001).  Saving model ...\n"
     ]
    },
    {
     "name": "stderr",
     "output_type": "stream",
     "text": [
      "  5%|▍         | 242/5000 [2:08:35<42:31:33, 32.18s/it]"
     ]
    },
    {
     "name": "stdout",
     "output_type": "stream",
     "text": [
      "[242] train loss: 0.000001 \n",
      "[242] \u001b[94mvalidate\u001b[0m loss: 0.000001\n",
      "Validation loss decreased (0.000001 --> 0.000001).  Saving model ...\n"
     ]
    },
    {
     "name": "stderr",
     "output_type": "stream",
     "text": [
      "  5%|▍         | 243/5000 [2:09:07<42:29:40, 32.16s/it]"
     ]
    },
    {
     "name": "stdout",
     "output_type": "stream",
     "text": [
      "[243] train loss: 0.000001 \n",
      "[243] \u001b[94mvalidate\u001b[0m loss: 0.000001\n",
      "EarlyStopping counter: 1 out of 20\n"
     ]
    },
    {
     "name": "stderr",
     "output_type": "stream",
     "text": [
      "  5%|▍         | 244/5000 [2:09:40<42:40:30, 32.30s/it]"
     ]
    },
    {
     "name": "stdout",
     "output_type": "stream",
     "text": [
      "[244] train loss: 0.000001 \n",
      "[244] \u001b[94mvalidate\u001b[0m loss: 0.000001\n",
      "Validation loss decreased (0.000001 --> 0.000001).  Saving model ...\n"
     ]
    },
    {
     "name": "stderr",
     "output_type": "stream",
     "text": [
      "  5%|▍         | 245/5000 [2:10:13<42:51:35, 32.45s/it]"
     ]
    },
    {
     "name": "stdout",
     "output_type": "stream",
     "text": [
      "[245] train loss: 0.000001 \n",
      "[245] \u001b[94mvalidate\u001b[0m loss: 0.000001\n",
      "EarlyStopping counter: 1 out of 20\n"
     ]
    },
    {
     "name": "stderr",
     "output_type": "stream",
     "text": [
      "  5%|▍         | 246/5000 [2:10:45<42:54:32, 32.49s/it]"
     ]
    },
    {
     "name": "stdout",
     "output_type": "stream",
     "text": [
      "[246] train loss: 0.000001 \n",
      "[246] \u001b[94mvalidate\u001b[0m loss: 0.000001\n",
      "EarlyStopping counter: 2 out of 20\n"
     ]
    },
    {
     "name": "stderr",
     "output_type": "stream",
     "text": [
      "  5%|▍         | 247/5000 [2:11:19<43:18:20, 32.80s/it]"
     ]
    },
    {
     "name": "stdout",
     "output_type": "stream",
     "text": [
      "[247] train loss: 0.000001 \n",
      "[247] \u001b[94mvalidate\u001b[0m loss: 0.000001\n",
      "EarlyStopping counter: 3 out of 20\n"
     ]
    },
    {
     "name": "stderr",
     "output_type": "stream",
     "text": [
      "  5%|▍         | 248/5000 [2:11:52<43:33:28, 33.00s/it]"
     ]
    },
    {
     "name": "stdout",
     "output_type": "stream",
     "text": [
      "[248] train loss: 0.000001 \n",
      "[248] \u001b[94mvalidate\u001b[0m loss: 0.000001\n",
      "EarlyStopping counter: 4 out of 20\n"
     ]
    },
    {
     "name": "stderr",
     "output_type": "stream",
     "text": [
      "  5%|▍         | 249/5000 [2:12:25<43:31:29, 32.98s/it]"
     ]
    },
    {
     "name": "stdout",
     "output_type": "stream",
     "text": [
      "[249] train loss: 0.000001 \n",
      "[249] \u001b[94mvalidate\u001b[0m loss: 0.000001\n",
      "EarlyStopping counter: 5 out of 20\n"
     ]
    },
    {
     "name": "stderr",
     "output_type": "stream",
     "text": [
      "  5%|▌         | 250/5000 [2:12:58<43:34:23, 33.02s/it]"
     ]
    },
    {
     "name": "stdout",
     "output_type": "stream",
     "text": [
      "[250] train loss: 0.000001 \n",
      "[250] \u001b[94mvalidate\u001b[0m loss: 0.000001\n",
      "EarlyStopping counter: 6 out of 20\n"
     ]
    },
    {
     "name": "stderr",
     "output_type": "stream",
     "text": [
      "  5%|▌         | 251/5000 [2:13:31<43:33:09, 33.02s/it]"
     ]
    },
    {
     "name": "stdout",
     "output_type": "stream",
     "text": [
      "[251] train loss: 0.000001 \n",
      "[251] \u001b[94mvalidate\u001b[0m loss: 0.000001\n",
      "EarlyStopping counter: 7 out of 20\n"
     ]
    },
    {
     "name": "stderr",
     "output_type": "stream",
     "text": [
      "  5%|▌         | 252/5000 [2:14:04<43:15:57, 32.80s/it]"
     ]
    },
    {
     "name": "stdout",
     "output_type": "stream",
     "text": [
      "[252] train loss: 0.000001 \n",
      "[252] \u001b[94mvalidate\u001b[0m loss: 0.000001\n",
      "EarlyStopping counter: 8 out of 20\n"
     ]
    },
    {
     "name": "stderr",
     "output_type": "stream",
     "text": [
      "  5%|▌         | 253/5000 [2:14:36<43:07:48, 32.71s/it]"
     ]
    },
    {
     "name": "stdout",
     "output_type": "stream",
     "text": [
      "[253] train loss: 0.000001 \n",
      "[253] \u001b[94mvalidate\u001b[0m loss: 0.000001\n",
      "EarlyStopping counter: 9 out of 20\n"
     ]
    },
    {
     "name": "stderr",
     "output_type": "stream",
     "text": [
      "  5%|▌         | 254/5000 [2:15:09<43:08:58, 32.73s/it]"
     ]
    },
    {
     "name": "stdout",
     "output_type": "stream",
     "text": [
      "[254] train loss: 0.000001 \n",
      "[254] \u001b[94mvalidate\u001b[0m loss: 0.000001\n",
      "EarlyStopping counter: 10 out of 20\n"
     ]
    },
    {
     "name": "stderr",
     "output_type": "stream",
     "text": [
      "  5%|▌         | 255/5000 [2:15:42<43:07:01, 32.71s/it]"
     ]
    },
    {
     "name": "stdout",
     "output_type": "stream",
     "text": [
      "[255] train loss: 0.000001 \n",
      "[255] \u001b[94mvalidate\u001b[0m loss: 0.000001\n",
      "EarlyStopping counter: 11 out of 20\n"
     ]
    },
    {
     "name": "stderr",
     "output_type": "stream",
     "text": [
      "  5%|▌         | 256/5000 [2:16:15<43:12:02, 32.78s/it]"
     ]
    },
    {
     "name": "stdout",
     "output_type": "stream",
     "text": [
      "[256] train loss: 0.000001 \n",
      "[256] \u001b[94mvalidate\u001b[0m loss: 0.000001\n",
      "EarlyStopping counter: 12 out of 20\n"
     ]
    },
    {
     "name": "stderr",
     "output_type": "stream",
     "text": [
      "  5%|▌         | 257/5000 [2:16:47<43:04:42, 32.70s/it]"
     ]
    },
    {
     "name": "stdout",
     "output_type": "stream",
     "text": [
      "[257] train loss: 0.000001 \n",
      "[257] \u001b[94mvalidate\u001b[0m loss: 0.000001\n",
      "EarlyStopping counter: 13 out of 20\n"
     ]
    },
    {
     "name": "stderr",
     "output_type": "stream",
     "text": [
      "  5%|▌         | 258/5000 [2:17:20<43:07:26, 32.74s/it]"
     ]
    },
    {
     "name": "stdout",
     "output_type": "stream",
     "text": [
      "[258] train loss: 0.000001 \n",
      "[258] \u001b[94mvalidate\u001b[0m loss: 0.000001\n",
      "EarlyStopping counter: 14 out of 20\n"
     ]
    },
    {
     "name": "stderr",
     "output_type": "stream",
     "text": [
      "  5%|▌         | 259/5000 [2:17:53<43:09:47, 32.78s/it]"
     ]
    },
    {
     "name": "stdout",
     "output_type": "stream",
     "text": [
      "[259] train loss: 0.000001 \n",
      "[259] \u001b[94mvalidate\u001b[0m loss: 0.000001\n",
      "EarlyStopping counter: 15 out of 20\n"
     ]
    },
    {
     "name": "stderr",
     "output_type": "stream",
     "text": [
      "  5%|▌         | 260/5000 [2:18:24<42:23:35, 32.20s/it]"
     ]
    },
    {
     "name": "stdout",
     "output_type": "stream",
     "text": [
      "[260] train loss: 0.000001 \n",
      "[260] \u001b[94mvalidate\u001b[0m loss: 0.000001\n",
      "EarlyStopping counter: 16 out of 20\n"
     ]
    },
    {
     "name": "stderr",
     "output_type": "stream",
     "text": [
      "  5%|▌         | 261/5000 [2:18:56<42:18:36, 32.14s/it]"
     ]
    },
    {
     "name": "stdout",
     "output_type": "stream",
     "text": [
      "[261] train loss: 0.000001 \n",
      "[261] \u001b[94mvalidate\u001b[0m loss: 0.000001\n",
      "EarlyStopping counter: 17 out of 20\n"
     ]
    },
    {
     "name": "stderr",
     "output_type": "stream",
     "text": [
      "  5%|▌         | 262/5000 [2:19:28<42:24:45, 32.23s/it]"
     ]
    },
    {
     "name": "stdout",
     "output_type": "stream",
     "text": [
      "[262] train loss: 0.000001 \n",
      "[262] \u001b[94mvalidate\u001b[0m loss: 0.000001\n",
      "EarlyStopping counter: 18 out of 20\n"
     ]
    },
    {
     "name": "stderr",
     "output_type": "stream",
     "text": [
      "  5%|▌         | 263/5000 [2:20:01<42:30:47, 32.31s/it]"
     ]
    },
    {
     "name": "stdout",
     "output_type": "stream",
     "text": [
      "[263] train loss: 0.000001 \n",
      "[263] \u001b[94mvalidate\u001b[0m loss: 0.000001\n",
      "EarlyStopping counter: 19 out of 20\n"
     ]
    },
    {
     "name": "stderr",
     "output_type": "stream",
     "text": [
      "  5%|▌         | 263/5000 [2:20:33<42:11:33, 32.07s/it]"
     ]
    },
    {
     "name": "stdout",
     "output_type": "stream",
     "text": [
      "[264] train loss: 0.000001 \n",
      "[264] \u001b[94mvalidate\u001b[0m loss: 0.000001\n",
      "EarlyStopping counter: 20 out of 20\n",
      "Early stopping\n"
     ]
    },
    {
     "name": "stderr",
     "output_type": "stream",
     "text": [
      "\n"
     ]
    },
    {
     "name": "stdout",
     "output_type": "stream",
     "text": [
      "R2 of test is:  0.9999242235127709\n",
      "Test set results for 158942 samples:\n",
      "MSE: 1.0583532e-06\n",
      "MAE: 0.00058783824\n",
      "MSE loss on test set is: 8.270826198923937e-09\n",
      "time used to train model with 20/5000 patience is:  140.69916973256719 mins 2.3449861622094534 hrs\n"
     ]
    }
   ],
   "source": [
    "import time \n",
    "start_time = time.perf_counter()\n",
    "train_main(config)\n",
    "end_time = time.perf_counter() \n",
    "print(\"time used to train model with 20/5000 patience is: \", (end_time - start_time)/60, 'mins', (end_time - start_time) / 3600, 'hrs')"
   ]
  },
  {
   "cell_type": "markdown",
   "id": "116f0821-2e46-42af-84d4-06059115ec65",
   "metadata": {
    "tags": []
   },
   "source": [
    "# test model performance with two additional test"
   ]
  },
  {
   "cell_type": "markdown",
   "id": "08d90da2-2f11-45f5-a21c-14f5655333be",
   "metadata": {
    "tags": []
   },
   "source": [
    "### RF"
   ]
  },
  {
   "cell_type": "code",
   "execution_count": 25,
   "id": "85a0b918-9e28-401d-b682-741a6ccf6443",
   "metadata": {
    "tags": []
   },
   "outputs": [],
   "source": [
    "df_random_scale = pd.read_csv('dataset/set1/train_norm.csv')"
   ]
  },
  {
   "cell_type": "code",
   "execution_count": 16,
   "id": "49c93484-e734-478b-aaec-ed501f2fc160",
   "metadata": {
    "tags": []
   },
   "outputs": [],
   "source": [
    "# RF regressor \n",
    "import joblib\n",
    "regr_RF = joblib.load('newRF_multiOutRegressor_nest100_oobTrue_rand20_njobs1.joblib')"
   ]
  },
  {
   "cell_type": "code",
   "execution_count": 27,
   "id": "866b927b-e8e0-4838-b39a-7f4f005ffd79",
   "metadata": {
    "tags": []
   },
   "outputs": [
    {
     "name": "stdout",
     "output_type": "stream",
     "text": [
      "RF test time is:  0.09720314387232065 s\n"
     ]
    }
   ],
   "source": [
    "# predict on test data \n",
    "import time\n",
    "start_time = time.perf_counter()\n",
    "y_pred_set1_multioutRF = regr_RF.predict(df_random_scale[inputs])\n",
    "end_time = time.perf_counter() \n",
    "print('RF test time is: ', end_time - start_time, 's')"
   ]
  },
  {
   "cell_type": "markdown",
   "id": "a3cbb4ec-52e3-40de-b02d-cae77e4b0b2b",
   "metadata": {
    "tags": []
   },
   "source": [
    "### DNN"
   ]
  },
  {
   "cell_type": "code",
   "execution_count": 24,
   "id": "cbaeff27-b020-4477-8553-658573b81504",
   "metadata": {},
   "outputs": [],
   "source": [
    "def predict_on_test(config, data_dir = 'dataset/set1/', testdata = 'set1'): \n",
    "\n",
    "    # get dataset \n",
    "    _, _, test_set = load_data(data_dir)\n",
    "\n",
    "    test_loader = torch.utils.data.DataLoader(\n",
    "            test_set, \n",
    "            batch_size=int(config[\"batch_size\"]), \n",
    "            shuffle=True,\n",
    "            num_workers=4, \n",
    "            pin_memory=False)\n",
    "            \n",
    "    print(\"Creating model\")\n",
    "    Model = getattr(models, config['model'])\n",
    "    print('created model is: ', Model)\n",
    "    \n",
    "    model = Model(config['batch_norm'], config['layer_norm'], \n",
    "                     config[\"l1\"], config[\"l2\"], config[\"l3\"], config[\"l4\"], config[\"l5\"])\n",
    "        \n",
    "    name = f\"{config['model']}_{config['l1']}{config['l2']}{config['l3']}{config['l4']}{config['l5']}lr{config['lr']}BS{config['batch_size']}isB{config['batch_norm']}ln{config['layer_norm']}Opt{config['optimizer']}sch{config['lr_scheduler']}\"\n",
    "    \n",
    "\n",
    "    device = torch.device(\"cuda:0\" if torch.cuda.is_available() else \"cpu\")\n",
    "    model.to(device)\n",
    "\n",
    "    optimizer, lr_scheduler = build_optimizer(model, config['optimizer'], config['lr'])\n",
    "    \n",
    "    res_dir = 'DNN_res'\n",
    "    checkpoint_dir = os.path.join(res_dir, 'checkpoints')\n",
    "    checkpoint_path = os.path.join(checkpoint_dir, f'{name}.pt')\n",
    "    \n",
    "    # load the last checkpoint with the best model\n",
    "    model.load_state_dict(torch.load(checkpoint_path)) \n",
    "\n",
    "    # test on test set \n",
    "    test_accuracy(model, test_loader, res_dir, testdata+name, device) "
   ]
  },
  {
   "cell_type": "code",
   "execution_count": 25,
   "id": "933f39ef-6c4b-40e1-aca8-3b415877f80d",
   "metadata": {
    "tags": []
   },
   "outputs": [
    {
     "name": "stdout",
     "output_type": "stream",
     "text": [
      "Creating model\n",
      "created model is:  <class 'model.net.DeepNet6LayerTune'>\n",
      "R2 of test is:  0.9999466318557761\n",
      "Test set results for 158942 samples:\n",
      "MSE: 8.477168e-07\n",
      "MAE: 0.00057548966\n",
      "MSE loss on test set is: 6.624687552514079e-09\n",
      "time used to evaluate the model on test data:  13.97365738498047 sec 0.2328942897496745 mins\n"
     ]
    }
   ],
   "source": [
    "config = {'l1': 512, 'l2': 512, 'l3': 512, 'l4': 512, 'l5': 512, \n",
    "          'lr': 0.001, 'batch_size': 128, 'model': 'DeepNet6LayerTune', 'batch_norm': False, \n",
    "          'layer_norm': True, 'lr_scheduler': True, 'optimizer': 'adam'}\n",
    "\n",
    "import time \n",
    "start_time = time.perf_counter()\n",
    "predict_on_test(config, data_dir='dataset/', testdata='test')\n",
    "end_time = time.perf_counter()\n",
    "print('time used to evaluate the model on test data: ', end_time - start_time, 'sec', (end_time - start_time) / 60, 'mins')"
   ]
  },
  {
   "cell_type": "code",
   "execution_count": 27,
   "id": "17f4cf4c-5f05-471b-b175-e642e9a3f866",
   "metadata": {
    "tags": []
   },
   "outputs": [
    {
     "name": "stdout",
     "output_type": "stream",
     "text": [
      "Creating model\n",
      "created model is:  <class 'model.net.DeepNet6LayerTune'>\n",
      "R2 of test is:  -0.7321651537955086\n",
      "Test set results for 50 samples:\n",
      "MSE: 0.04378244\n",
      "MAE: 0.13140967\n",
      "MSE loss on test set is: 0.000875648707151413\n"
     ]
    }
   ],
   "source": [
    "config = {'l1': 512, 'l2': 512, 'l3': 512, 'l4': 512, 'l5': 512, \n",
    "          'lr': 0.001, 'batch_size': 128, 'model': 'DeepNet6LayerTune', 'batch_norm': False, \n",
    "          'layer_norm': True, 'lr_scheduler': True, 'optimizer': 'adam'}\n",
    "\n",
    "import time \n",
    "predict_on_test(config, data_dir='dataset/set2/', testdata='set2')\n",
    "# predict_on_test(config, data_dir='dataset/set1/', testdata='set1')"
   ]
  }
 ],
 "metadata": {
  "kernelspec": {
   "display_name": "NERSC Python",
   "language": "python",
   "name": "python3"
  },
  "language_info": {
   "codemirror_mode": {
    "name": "ipython",
    "version": 3
   },
   "file_extension": ".py",
   "mimetype": "text/x-python",
   "name": "python",
   "nbconvert_exporter": "python",
   "pygments_lexer": "ipython3",
   "version": "3.11.7"
  }
 },
 "nbformat": 4,
 "nbformat_minor": 5
}
